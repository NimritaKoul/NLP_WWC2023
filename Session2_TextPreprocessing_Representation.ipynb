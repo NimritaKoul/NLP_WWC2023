{
 "cells": [
  {
   "cell_type": "markdown",
   "id": "3f92677e",
   "metadata": {
    "id": "3f92677e"
   },
   "source": [
    "# Natural Language Processing using Python\n",
    "\n",
    "<b> This  4 hour workshop will introduce the audience to the field of Natural Language Processing,  we will cover the fundamental tasks in NLP and walk through the Python code for some of the important steps in an NLP project.</b>\n",
    "\n",
    "<b> Author:  Dr. Nimrita Koul, Associate Professor, Machine Learning</b><br>\n",
    "<b> Who this talk is suitable for:  Data analysts, students and anyone interested in using Natural Language Processing</b><br>\n",
    "<b>Prerequisites:  Python Programming, basic familiarity with concepts in data science and machine learning</b><br>\n",
    "<b> Duration:  4 Sessions of 1 hour each</b><br>\n",
    "<b>Time:  Starting 9th March 2023, Every Thursday,  8.00 pm to 9.00 pm Indian Standard Time</b><br>\n",
    "<b> Github URLs:</b><br>\n",
    "URL of Session 1 Jupyter Notebook: https://github.com/NimritaKoul/NLP_WWC2023/blob/main/Session1_Introduction%20to%20Natural%20Language%20Processing.ipynb\n",
    "\n",
    "URL of Session 2 Jupyter Notebook:\n",
    "https://github.com/NimritaKoul/NLP_WWC2023/blob/main/Session2_Final.ipynb\n",
    "\n",
    "\n",
    "### Contents: \n",
    "\n",
    "#### Session 1:\n",
    "1. Introduction to Natural Language Processing, components, task, applications. \n",
    "2. Python Tools and Libraries for NLP - with focus on NLTK and SpaCy \n",
    "\n",
    "#### Session 2:\n",
    "<span style=\"color:Blue\">    \n",
    "1. Text Preprocessing - normalization, tokenization, stopword removal, case conversion, stemming, lemmatization, POS tagging<br>\n",
    "2. Text Representation - Bag of word models, TF-IDF, Word Embeddings\n",
    "</span>\n",
    "\n",
    "#### Session 3:\n",
    "1. Text Classification - Text classification models Naive Bayes, Decision Tree, RNN\n",
    "2. Transformers\n",
    "\n",
    "#### Session 4 :  Case Study\n",
    "1. Sentiment Analysis\n",
    "2. Chatbot"
   ]
  },
  {
   "cell_type": "markdown",
   "id": "c3e73242",
   "metadata": {
    "id": "c3e73242"
   },
   "source": [
    "### Recap of session1 :\n",
    "\n",
    "#### Natural Language Processing (NLP) is a branch of AI that aims at building computer systems that can understand natural language and respond in a natural language.\n",
    "\n",
    "<b>Human language is filled with ambiguities</b> These ambiguities in natural language make task of understanding natural language very hard. A number of NLP tasks are required to convert the text data into a meaningful form. \n",
    "\n",
    "#### NLP Tasks\n",
    "\n",
    "1. Text Preprocessing : Tokenization, Normalization - Case conversion, stop words removal, stemming, lemmatization\n",
    "2. Representing text in numerical vectors: Vector Embedding\n",
    "3. Part of speech tagging \n",
    "4. Identifying relationships among words\n",
    "5. Word sense disambiguation\n",
    "6. Named entity recognition  \n",
    "7. Co-reference resolution \n",
    "8. Sentiment analysis\n",
    "9. Text Classification\n",
    "10. Speech recognition \n",
    "11. Recognizing Textual Entailment\n",
    "12. Natural language generation \n",
    "13. Language Modelling\n",
    "\n",
    "#### NLP use cases\n",
    "\n",
    "1. Spam detection\n",
    "2. Machine translation\n",
    "3. Conversational AI\n",
    "4. Text summarization\n",
    "5. Auto correct and Auto complete\n",
    "6. Semantic search\n",
    "7. Health Care\n",
    "8. Finance\n",
    "9. HR\n",
    "10. Market Intelligence etc. \n",
    "\n",
    "#### Python libraries for NLP : NLTK, Spacy, TextBlob, Gensim, PolyGlot, Sklearn\n",
    "\n",
    "\n",
    "#### NLTK  (www.nltk.org)\n",
    "- Free and opensource library for NLP research and development in multiple languages.\n",
    "NLTK comes with many corpora, toy grammars, trained models, etc. (https://www.nltk.org/nltk_data/)\n",
    "\n",
    "NLTK Installation:\n",
    "using pip:\n",
    "<code> pip install nltk</code>\n",
    "\n",
    "For Ananconda using conda:\n",
    "<code> conda install nltk</code>\n",
    "\n",
    "\n",
    "#### Spacy (https://spacy.io/)\n",
    "Spacy is a free, opensource and industrial-strength library for NLP in Python. It provides a huge ecosystem of plugins and components, enables you to build custom components and workflows.\n",
    "\n",
    "Download and Install (https://spacy.io/usage)\n",
    "Using pip: \n",
    "<code>\n",
    "pip install -U pip setuptools wheel\n",
    "pip install spacy\n",
    "</code>\n",
    "\n",
    "Using conda:\n",
    "<code>conda install -c conda-forge spacy</code>\n",
    "\n",
    "After installing spacy, we need to download the suitable NLP pipeline of a language we usually work with (English in our case):\n",
    "\n",
    "<code>python -m spacy download en_core_web_sm<code>\n",
    "\n",
    "spaCy’s trained pipelines can be installed as Python packages. Trained pipelines can be installed from a download URL or a local directory, manually or via pip. Their data can be located anywhere on your file system."
   ]
  },
  {
   "cell_type": "markdown",
   "id": "ad1db050",
   "metadata": {
    "id": "ad1db050"
   },
   "source": [
    "### References for Text Preprocessing\n",
    "1. https://www.kaggle.com/datasets/datatattle/covid-19-nlp-text-classification?resource=download\n",
    "2. https://www.kaggle.com/code/sudalairajkumar/getting-started-with-text-preprocessing\n",
    "3. https://github.com/JasonKessler/scattertext\n",
    "3. https://www.kaggle.com/code/pierremegret/gensim-word2vec-tutorial\n",
    "4. https://homepages.inf.ed.ac.uk/sgwater/math_tutorials.html\n",
    "5. https://radimrehurek.com/gensim/models/word2vec.html\n",
    "6. https://dataaspirant.com/nlp-text-preprocessing-techniques-implementation-python/\n",
    "7. https://www.enjoyalgorithms.com/blog/text-data-pre-processing-techniques-in-ml\n",
    "8. https://www.enjoyalgorithms.com/blog/word-vector-encoding-in-nlp"
   ]
  },
  {
   "cell_type": "markdown",
   "id": "79a37ca2",
   "metadata": {
    "id": "79a37ca2"
   },
   "source": [
    "# Session 2 : 16 March 2023\n",
    "\n",
    "### On the agenda today:\n",
    "\n",
    "1. Text Preprocessing\n",
    "2. Text Representation\n",
    "\n",
    "### Text Preprocessing\n",
    "\n",
    "Text preprocessing involves a number of tasks that transform text into a clean format, ready to be used for further processing or to be fed to an ML model. Depending upon the specific text data and the specific NLP task, different types of preprocessing may be required. \n",
    "\n",
    "Common pre-processing tasks involve: \n",
    "\n",
    "- Text Normalization - Conversion of text to canonical representation. Conversion to lower case\n",
    "- Removing stopwords, punctuations, special words or text pieces e.g. hash tags, URLs, emojis\n",
    "- Stemming\n",
    "- Lemmatization\n",
    "- Spelling correction\n",
    "- Exploratory analysis through plotting\n",
    "\n",
    "Libraries like NLTK, SpaCy provide built in functionality for text-preprocessing.\n",
    "\n",
    "#### Benefits of  Text Preprocessing\n",
    "-  Dimensionality Reduction: In the vector embedding space, a text document is represented a multidimensional vector. Every word in this document is one of the dimensions. Dimensionality reduction has the well known advantage of navigating the curse of dimensionality and improving the performance of tasks like document classification.\n",
    "\n"
   ]
  },
  {
   "cell_type": "markdown",
   "id": "d9ccba99",
   "metadata": {
    "id": "d9ccba99"
   },
   "source": [
    "### Text Pre-processing : Text Data Cleaning and Preparation Steps\n",
    "### Dataset URL:  Corona Virus NLP Tweets data set\n",
    "##### https://www.kaggle.com/datasets/datatattle/covid-19-nlp-text-classification"
   ]
  },
  {
   "cell_type": "code",
   "execution_count": 9,
   "id": "4a3777a2",
   "metadata": {
    "id": "4a3777a2",
    "outputId": "f68732b9-4ca3-4be6-d00e-187450130f8e"
   },
   "outputs": [
    {
     "data": {
      "text/html": [
       "<div>\n",
       "<style scoped>\n",
       "    .dataframe tbody tr th:only-of-type {\n",
       "        vertical-align: middle;\n",
       "    }\n",
       "\n",
       "    .dataframe tbody tr th {\n",
       "        vertical-align: top;\n",
       "    }\n",
       "\n",
       "    .dataframe thead th {\n",
       "        text-align: right;\n",
       "    }\n",
       "</style>\n",
       "<table border=\"1\" class=\"dataframe\">\n",
       "  <thead>\n",
       "    <tr style=\"text-align: right;\">\n",
       "      <th></th>\n",
       "      <th>UserName</th>\n",
       "      <th>ScreenName</th>\n",
       "      <th>Location</th>\n",
       "      <th>TweetAt</th>\n",
       "      <th>OriginalTweet</th>\n",
       "      <th>Sentiment</th>\n",
       "    </tr>\n",
       "  </thead>\n",
       "  <tbody>\n",
       "    <tr>\n",
       "      <th>0</th>\n",
       "      <td>3799</td>\n",
       "      <td>48751</td>\n",
       "      <td>London</td>\n",
       "      <td>16-03-2020</td>\n",
       "      <td>@MeNyrbie @Phil_Gahan @Chrisitv https://t.co/i...</td>\n",
       "      <td>Neutral</td>\n",
       "    </tr>\n",
       "    <tr>\n",
       "      <th>1</th>\n",
       "      <td>3800</td>\n",
       "      <td>48752</td>\n",
       "      <td>UK</td>\n",
       "      <td>16-03-2020</td>\n",
       "      <td>advice Talk to your neighbours family to excha...</td>\n",
       "      <td>Positive</td>\n",
       "    </tr>\n",
       "    <tr>\n",
       "      <th>2</th>\n",
       "      <td>3801</td>\n",
       "      <td>48753</td>\n",
       "      <td>Vagabonds</td>\n",
       "      <td>16-03-2020</td>\n",
       "      <td>Coronavirus Australia: Woolworths to give elde...</td>\n",
       "      <td>Positive</td>\n",
       "    </tr>\n",
       "    <tr>\n",
       "      <th>3</th>\n",
       "      <td>3802</td>\n",
       "      <td>48754</td>\n",
       "      <td>NaN</td>\n",
       "      <td>16-03-2020</td>\n",
       "      <td>My food stock is not the only one which is emp...</td>\n",
       "      <td>Positive</td>\n",
       "    </tr>\n",
       "    <tr>\n",
       "      <th>4</th>\n",
       "      <td>3803</td>\n",
       "      <td>48755</td>\n",
       "      <td>NaN</td>\n",
       "      <td>16-03-2020</td>\n",
       "      <td>Me, ready to go at supermarket during the #COV...</td>\n",
       "      <td>Extremely Negative</td>\n",
       "    </tr>\n",
       "  </tbody>\n",
       "</table>\n",
       "</div>"
      ],
      "text/plain": [
       "   UserName  ScreenName   Location     TweetAt  \\\n",
       "0      3799       48751     London  16-03-2020   \n",
       "1      3800       48752         UK  16-03-2020   \n",
       "2      3801       48753  Vagabonds  16-03-2020   \n",
       "3      3802       48754        NaN  16-03-2020   \n",
       "4      3803       48755        NaN  16-03-2020   \n",
       "\n",
       "                                       OriginalTweet           Sentiment  \n",
       "0  @MeNyrbie @Phil_Gahan @Chrisitv https://t.co/i...             Neutral  \n",
       "1  advice Talk to your neighbours family to excha...            Positive  \n",
       "2  Coronavirus Australia: Woolworths to give elde...            Positive  \n",
       "3  My food stock is not the only one which is emp...            Positive  \n",
       "4  Me, ready to go at supermarket during the #COV...  Extremely Negative  "
      ]
     },
     "execution_count": 9,
     "metadata": {},
     "output_type": "execute_result"
    }
   ],
   "source": [
    "import pandas as pd\n",
    "train_data = pd.read_csv('Corona_NLP_train.csv',  encoding='latin-1')\n",
    "train_data.head()"
   ]
  },
  {
   "cell_type": "code",
   "execution_count": 10,
   "id": "c5bd5276",
   "metadata": {
    "id": "c5bd5276",
    "outputId": "6fbdb739-e7d2-4172-b69a-9bd15cdc55b4"
   },
   "outputs": [
    {
     "data": {
      "text/plain": [
       "(41157, 6)"
      ]
     },
     "execution_count": 10,
     "metadata": {},
     "output_type": "execute_result"
    }
   ],
   "source": [
    "train_data.shape"
   ]
  },
  {
   "cell_type": "code",
   "execution_count": 11,
   "id": "d4d52706",
   "metadata": {
    "id": "d4d52706",
    "outputId": "ba834405-e4a3-463a-e910-b52aad44156b"
   },
   "outputs": [
    {
     "data": {
      "text/plain": [
       "Index(['UserName', 'ScreenName', 'Location', 'TweetAt', 'OriginalTweet',\n",
       "       'Sentiment'],\n",
       "      dtype='object')"
      ]
     },
     "execution_count": 11,
     "metadata": {},
     "output_type": "execute_result"
    }
   ],
   "source": [
    "train_data.columns"
   ]
  },
  {
   "cell_type": "code",
   "execution_count": 12,
   "id": "1d9acad6",
   "metadata": {
    "id": "1d9acad6",
    "outputId": "478353f7-3b5d-4200-aee9-207c14cc5a02"
   },
   "outputs": [
    {
     "data": {
      "text/plain": [
       "UserName            0\n",
       "ScreenName          0\n",
       "Location         8590\n",
       "TweetAt             0\n",
       "OriginalTweet       0\n",
       "Sentiment           0\n",
       "dtype: int64"
      ]
     },
     "execution_count": 12,
     "metadata": {},
     "output_type": "execute_result"
    }
   ],
   "source": [
    "train_data.isna().sum()"
   ]
  },
  {
   "cell_type": "code",
   "execution_count": 13,
   "id": "393b6e8b",
   "metadata": {
    "id": "393b6e8b"
   },
   "outputs": [],
   "source": [
    "train_data = train_data.dropna()"
   ]
  },
  {
   "cell_type": "code",
   "execution_count": 14,
   "id": "6c1a8f77",
   "metadata": {
    "id": "6c1a8f77",
    "outputId": "98d00b05-3a93-4d58-8c36-4e6a2b8067e6"
   },
   "outputs": [
    {
     "data": {
      "text/plain": [
       "(32567, 6)"
      ]
     },
     "execution_count": 14,
     "metadata": {},
     "output_type": "execute_result"
    }
   ],
   "source": [
    "train_data.shape"
   ]
  },
  {
   "cell_type": "code",
   "execution_count": 15,
   "id": "16021e8d",
   "metadata": {
    "id": "16021e8d",
    "outputId": "f1dd0d36-0764-4d08-98b6-76159cce796e"
   },
   "outputs": [
    {
     "data": {
      "text/plain": [
       "Index(['OriginalTweet', 'Sentiment'], dtype='object')"
      ]
     },
     "execution_count": 15,
     "metadata": {},
     "output_type": "execute_result"
    }
   ],
   "source": [
    "train_data = train_data.drop(['UserName', 'ScreenName', 'Location', 'TweetAt'], axis = 1)\n",
    "train_data.columns"
   ]
  },
  {
   "cell_type": "markdown",
   "id": "b50115ba",
   "metadata": {
    "id": "b50115ba"
   },
   "source": [
    "#### We will do data cleaning and pre-processing on the OriginalTweet Column of this dataframe."
   ]
  },
  {
   "cell_type": "code",
   "execution_count": 16,
   "id": "2d0625aa",
   "metadata": {
    "id": "2d0625aa",
    "outputId": "c5a597b6-873d-492a-9c7d-cadb772d3c9a"
   },
   "outputs": [
    {
     "data": {
      "text/html": [
       "<div>\n",
       "<style scoped>\n",
       "    .dataframe tbody tr th:only-of-type {\n",
       "        vertical-align: middle;\n",
       "    }\n",
       "\n",
       "    .dataframe tbody tr th {\n",
       "        vertical-align: top;\n",
       "    }\n",
       "\n",
       "    .dataframe thead th {\n",
       "        text-align: right;\n",
       "    }\n",
       "</style>\n",
       "<table border=\"1\" class=\"dataframe\">\n",
       "  <thead>\n",
       "    <tr style=\"text-align: right;\">\n",
       "      <th></th>\n",
       "      <th>OriginalTweet</th>\n",
       "      <th>Sentiment</th>\n",
       "    </tr>\n",
       "  </thead>\n",
       "  <tbody>\n",
       "    <tr>\n",
       "      <th>0</th>\n",
       "      <td>@menyrbie @phil_gahan @chrisitv https://t.co/i...</td>\n",
       "      <td>Neutral</td>\n",
       "    </tr>\n",
       "    <tr>\n",
       "      <th>1</th>\n",
       "      <td>advice talk to your neighbours family to excha...</td>\n",
       "      <td>Positive</td>\n",
       "    </tr>\n",
       "    <tr>\n",
       "      <th>2</th>\n",
       "      <td>coronavirus australia: woolworths to give elde...</td>\n",
       "      <td>Positive</td>\n",
       "    </tr>\n",
       "    <tr>\n",
       "      <th>5</th>\n",
       "      <td>as news of the regionâs first confirmed covid...</td>\n",
       "      <td>Positive</td>\n",
       "    </tr>\n",
       "    <tr>\n",
       "      <th>6</th>\n",
       "      <td>cashier at grocery store was sharing his insig...</td>\n",
       "      <td>Positive</td>\n",
       "    </tr>\n",
       "  </tbody>\n",
       "</table>\n",
       "</div>"
      ],
      "text/plain": [
       "                                       OriginalTweet Sentiment\n",
       "0  @menyrbie @phil_gahan @chrisitv https://t.co/i...   Neutral\n",
       "1  advice talk to your neighbours family to excha...  Positive\n",
       "2  coronavirus australia: woolworths to give elde...  Positive\n",
       "5  as news of the regionâs first confirmed covid...  Positive\n",
       "6  cashier at grocery store was sharing his insig...  Positive"
      ]
     },
     "execution_count": 16,
     "metadata": {},
     "output_type": "execute_result"
    }
   ],
   "source": [
    "#1. Case Conversion to Lower Case\n",
    "train_data['OriginalTweet'] = train_data['OriginalTweet'].str.lower()\n",
    "train_data.head()"
   ]
  },
  {
   "cell_type": "code",
   "execution_count": 17,
   "id": "cfbf2d8d",
   "metadata": {
    "id": "cfbf2d8d",
    "outputId": "ed444515-6c1c-45b2-a826-2d2ba9603f14"
   },
   "outputs": [
    {
     "data": {
      "text/plain": [
       "Index(['OriginalTweet', 'Sentiment'], dtype='object')"
      ]
     },
     "execution_count": 17,
     "metadata": {},
     "output_type": "execute_result"
    }
   ],
   "source": [
    "train_data.columns"
   ]
  },
  {
   "cell_type": "code",
   "execution_count": 18,
   "id": "3a5085db",
   "metadata": {
    "id": "3a5085db",
    "outputId": "9d6fdcd8-90b9-4a3f-fbb7-be7004b34adc"
   },
   "outputs": [
    {
     "data": {
      "text/plain": [
       "0        @menyrbie @phil_gahan @chrisitv https://t.co/i...\n",
       "1        advice talk neighbours family exchange phone n...\n",
       "2        coronavirus australia: woolworths give elderly...\n",
       "5        news regionâs first confirmed covid-19 case c...\n",
       "6        cashier grocery store sharing insights #covid_...\n",
       "                               ...                        \n",
       "41147    yâall really shitting much home?? #covid19 #c...\n",
       "41149    still shocked number #toronto supermarket empl...\n",
       "41150    never weâd situation &amp; world going superm...\n",
       "41152    airline pilots offering stock supermarket shel...\n",
       "41156    @tartiicat well new/used rift going $700.00 am...\n",
       "Name: OriginalTweet, Length: 32567, dtype: object"
      ]
     },
     "execution_count": 18,
     "metadata": {},
     "output_type": "execute_result"
    }
   ],
   "source": [
    "#Remove stop words and punctuation marks\n",
    "#https://stackoverflow.com/questions/29523254/python-remove-stop-words-from-pandas-dataframe\n",
    "import nltk\n",
    "import string\n",
    "from nltk.corpus import stopwords\n",
    "stop_words = stopwords.words('english')\n",
    "stopwordsandpunct = stop_words + list(string.punctuation)\n",
    "\n",
    "train_data['OriginalTweet'] = train_data['OriginalTweet'].apply(lambda w:' '.join(w for w in w.split() if w not in stopwordsandpunct))\n",
    "train_data['OriginalTweet']"
   ]
  },
  {
   "cell_type": "code",
   "execution_count": 19,
   "id": "29bf4e1d",
   "metadata": {
    "id": "29bf4e1d",
    "outputId": "26cd73b2-5763-4fbe-e9a1-24f285f775b9"
   },
   "outputs": [
    {
     "data": {
      "text/plain": [
       "0                   @menyrbie @phil_gahan @chrisitv   \n",
       "1    advice talk neighbours family exchange phone n...\n",
       "2    coronavirus australia: woolworths give elderly...\n",
       "5    news regionâs first confirmed covid-19 case c...\n",
       "6    cashier grocery store sharing insights #covid_...\n",
       "Name: OriginalTweet, dtype: object"
      ]
     },
     "execution_count": 19,
     "metadata": {},
     "output_type": "execute_result"
    }
   ],
   "source": [
    "# Remove URLs from all the tweets\n",
    "import re\n",
    "def remove_url(tweet):\n",
    "    tweet = re.sub(r'\\w+:\\/{2}[\\d\\w-]+(\\.[\\d\\w-]+)*(?:(?:\\/[^\\s/]*))*', '', tweet)\n",
    "    return tweet\n",
    "\n",
    "train_data['OriginalTweet'] = train_data['OriginalTweet'].apply(remove_url)\n",
    "train_data['OriginalTweet'].head()"
   ]
  },
  {
   "cell_type": "code",
   "execution_count": 20,
   "id": "438ef091",
   "metadata": {
    "id": "438ef091",
    "outputId": "a1daa321-ae9c-4668-fc9c-4993a02490d1"
   },
   "outputs": [
    {
     "data": {
      "text/plain": [
       "0                                                     \n",
       "1    advice talk neighbours family exchange phone n...\n",
       "2    coronavirus australia: woolworths give elderly...\n",
       "5    news regionâs first confirmed covid-19 case c...\n",
       "6    cashier grocery store sharing insights  prove ...\n",
       "Name: OriginalTweet, dtype: object"
      ]
     },
     "execution_count": 20,
     "metadata": {},
     "output_type": "execute_result"
    }
   ],
   "source": [
    "# remove mentions and hashtags\n",
    "def remove_mentions_hashs(tweet):\n",
    "    tweet = re.sub(\"@[A-Za-z0-9_]+\",\"\", tweet) #Remove mentions\n",
    "    tweet = re.sub(\"#[A-Za-z0-9_]+\",\"\", tweet) #Remove hashtags\n",
    "    return tweet\n",
    "\n",
    "train_data['OriginalTweet'] = train_data['OriginalTweet'].apply(remove_mentions_hashs)\n",
    "train_data['OriginalTweet'].head()"
   ]
  },
  {
   "cell_type": "code",
   "execution_count": 21,
   "id": "0431dcf3",
   "metadata": {
    "id": "0431dcf3",
    "outputId": "d0116e08-4f4b-4278-b9d8-9adae0629dfa"
   },
   "outputs": [
    {
     "data": {
      "text/html": [
       "<div>\n",
       "<style scoped>\n",
       "    .dataframe tbody tr th:only-of-type {\n",
       "        vertical-align: middle;\n",
       "    }\n",
       "\n",
       "    .dataframe tbody tr th {\n",
       "        vertical-align: top;\n",
       "    }\n",
       "\n",
       "    .dataframe thead th {\n",
       "        text-align: right;\n",
       "    }\n",
       "</style>\n",
       "<table border=\"1\" class=\"dataframe\">\n",
       "  <thead>\n",
       "    <tr style=\"text-align: right;\">\n",
       "      <th></th>\n",
       "      <th>OriginalTweet</th>\n",
       "      <th>Sentiment</th>\n",
       "    </tr>\n",
       "  </thead>\n",
       "  <tbody>\n",
       "    <tr>\n",
       "      <th>0</th>\n",
       "      <td></td>\n",
       "      <td>Neutral</td>\n",
       "    </tr>\n",
       "    <tr>\n",
       "      <th>1</th>\n",
       "      <td>advice talk neighbours family exchange phone n...</td>\n",
       "      <td>Positive</td>\n",
       "    </tr>\n",
       "    <tr>\n",
       "      <th>2</th>\n",
       "      <td>coronavirus australia: woolworths give elderly...</td>\n",
       "      <td>Positive</td>\n",
       "    </tr>\n",
       "    <tr>\n",
       "      <th>5</th>\n",
       "      <td>news regionâs first confirmed covid-19 case c...</td>\n",
       "      <td>Positive</td>\n",
       "    </tr>\n",
       "    <tr>\n",
       "      <th>6</th>\n",
       "      <td>cashier grocery store sharing insights  prove ...</td>\n",
       "      <td>Positive</td>\n",
       "    </tr>\n",
       "  </tbody>\n",
       "</table>\n",
       "</div>"
      ],
      "text/plain": [
       "                                       OriginalTweet Sentiment\n",
       "0                                                      Neutral\n",
       "1  advice talk neighbours family exchange phone n...  Positive\n",
       "2  coronavirus australia: woolworths give elderly...  Positive\n",
       "5  news regionâs first confirmed covid-19 case c...  Positive\n",
       "6  cashier grocery store sharing insights  prove ...  Positive"
      ]
     },
     "execution_count": 21,
     "metadata": {},
     "output_type": "execute_result"
    }
   ],
   "source": [
    "# Removing emojis from tweets\n",
    "# https://stackoverflow.com/a/49146722/330558\n",
    "import re\n",
    "def remove_emojis(tweet):\n",
    "    pat =      re.compile(\"[\"\n",
    "                           u\"\\U0001F600-\\U0001F64F\"  # emoticons\n",
    "                           u\"\\U0001F300-\\U0001F5FF\"  # symbols & pictographs\n",
    "                           u\"\\U0001F680-\\U0001F6FF\"  # transport & map symbols\n",
    "                           u\"\\U0001F1E0-\\U0001F1FF\"  # flags (iOS)\n",
    "                           u\"\\U00002702-\\U000027B0\"\n",
    "                           u\"\\U000024C2-\\U0001F251\"\n",
    "                           \"]+\", flags=re.UNICODE)\n",
    "    return pat.sub(r'', tweet)\n",
    "\n",
    "train_data['OriginalTweet'] =train_data['OriginalTweet'].apply(remove_emojis)\n",
    "train_data.head()"
   ]
  },
  {
   "cell_type": "code",
   "execution_count": 22,
   "id": "21bdafee",
   "metadata": {
    "id": "21bdafee",
    "outputId": "d1338527-3afe-4728-85b9-b1f05b1ee4ac"
   },
   "outputs": [
    {
     "name": "stdout",
     "output_type": "stream",
     "text": [
      "These are some emojis ✂-➰\n",
      "These are some emojis -\n"
     ]
    }
   ],
   "source": [
    "text = u'These are some emojis \\U00002702-\\U000027B0'\n",
    "print(text) \n",
    "print(remove_emojis(text))"
   ]
  },
  {
   "cell_type": "code",
   "execution_count": 23,
   "id": "90050359",
   "metadata": {
    "id": "90050359",
    "outputId": "cc9a6b90-750e-48df-a60f-8b52ab3c70fe"
   },
   "outputs": [
    {
     "data": {
      "text/html": [
       "<div>\n",
       "<style scoped>\n",
       "    .dataframe tbody tr th:only-of-type {\n",
       "        vertical-align: middle;\n",
       "    }\n",
       "\n",
       "    .dataframe tbody tr th {\n",
       "        vertical-align: top;\n",
       "    }\n",
       "\n",
       "    .dataframe thead th {\n",
       "        text-align: right;\n",
       "    }\n",
       "</style>\n",
       "<table border=\"1\" class=\"dataframe\">\n",
       "  <thead>\n",
       "    <tr style=\"text-align: right;\">\n",
       "      <th></th>\n",
       "      <th>OriginalTweet</th>\n",
       "      <th>Sentiment</th>\n",
       "    </tr>\n",
       "  </thead>\n",
       "  <tbody>\n",
       "    <tr>\n",
       "      <th>0</th>\n",
       "      <td></td>\n",
       "      <td>Neutral</td>\n",
       "    </tr>\n",
       "    <tr>\n",
       "      <th>1</th>\n",
       "      <td>advice talk neighbours family exchange phone n...</td>\n",
       "      <td>Positive</td>\n",
       "    </tr>\n",
       "    <tr>\n",
       "      <th>2</th>\n",
       "      <td>coronavirus australia: woolworths give elderly...</td>\n",
       "      <td>Positive</td>\n",
       "    </tr>\n",
       "    <tr>\n",
       "      <th>5</th>\n",
       "      <td>news regionas first confirmed covid-19 case ca...</td>\n",
       "      <td>Positive</td>\n",
       "    </tr>\n",
       "    <tr>\n",
       "      <th>6</th>\n",
       "      <td>cashier grocery store sharing insights  prove ...</td>\n",
       "      <td>Positive</td>\n",
       "    </tr>\n",
       "  </tbody>\n",
       "</table>\n",
       "</div>"
      ],
      "text/plain": [
       "                                       OriginalTweet Sentiment\n",
       "0                                                      Neutral\n",
       "1  advice talk neighbours family exchange phone n...  Positive\n",
       "2  coronavirus australia: woolworths give elderly...  Positive\n",
       "5  news regionas first confirmed covid-19 case ca...  Positive\n",
       "6  cashier grocery store sharing insights  prove ...  Positive"
      ]
     },
     "execution_count": 23,
     "metadata": {},
     "output_type": "execute_result"
    }
   ],
   "source": [
    "import unicodedata\n",
    "def remove_nonascii(text):\n",
    "    text = unicodedata.normalize('NFKD', text).encode('ascii', 'ignore').decode('utf-8', 'ignore')\n",
    "    return text\n",
    "train_data['OriginalTweet'] = train_data['OriginalTweet'].apply(remove_nonascii)\n",
    "train_data.head()"
   ]
  },
  {
   "cell_type": "code",
   "execution_count": 24,
   "id": "874d669f",
   "metadata": {
    "id": "874d669f"
   },
   "outputs": [],
   "source": [
    "import string\n",
    "def remove_empty_strings1(tweet):\n",
    "    tweet = re.sub(r\"^\\s+|\\s+$\", 'NaN', tweet)\n",
    "    return tweet\n",
    "train_data['OriginalTweet'] =train_data['OriginalTweet'].apply(remove_empty_strings1)"
   ]
  },
  {
   "cell_type": "code",
   "execution_count": 25,
   "id": "a92e8d4f",
   "metadata": {
    "id": "a92e8d4f"
   },
   "outputs": [],
   "source": [
    "## Removing all rows containing NaNs after removing hashtags, URLs\n",
    "train_data = train_data[train_data['OriginalTweet'] != 'NaN']"
   ]
  },
  {
   "cell_type": "code",
   "execution_count": 27,
   "id": "f8e504f5",
   "metadata": {
    "id": "f8e504f5",
    "outputId": "9a48ab26-892d-42d7-e9bf-ac110fec2c18"
   },
   "outputs": [
    {
     "data": {
      "text/html": [
       "<div>\n",
       "<style scoped>\n",
       "    .dataframe tbody tr th:only-of-type {\n",
       "        vertical-align: middle;\n",
       "    }\n",
       "\n",
       "    .dataframe tbody tr th {\n",
       "        vertical-align: top;\n",
       "    }\n",
       "\n",
       "    .dataframe thead th {\n",
       "        text-align: right;\n",
       "    }\n",
       "</style>\n",
       "<table border=\"1\" class=\"dataframe\">\n",
       "  <thead>\n",
       "    <tr style=\"text-align: right;\">\n",
       "      <th></th>\n",
       "      <th>OriginalTweet</th>\n",
       "      <th>Sentiment</th>\n",
       "    </tr>\n",
       "  </thead>\n",
       "  <tbody>\n",
       "    <tr>\n",
       "      <th>1</th>\n",
       "      <td>advice talk neighbours family exchange phone n...</td>\n",
       "      <td>Positive</td>\n",
       "    </tr>\n",
       "    <tr>\n",
       "      <th>2</th>\n",
       "      <td>coronavirus australia: woolworths give elderly...</td>\n",
       "      <td>Positive</td>\n",
       "    </tr>\n",
       "    <tr>\n",
       "      <th>5</th>\n",
       "      <td>news regionas first confirmed covid-19 case ca...</td>\n",
       "      <td>Positive</td>\n",
       "    </tr>\n",
       "    <tr>\n",
       "      <th>6</th>\n",
       "      <td>cashier grocery store sharing insights  prove ...</td>\n",
       "      <td>Positive</td>\n",
       "    </tr>\n",
       "    <tr>\n",
       "      <th>7</th>\n",
       "      <td>supermarket today. buy toilet paper.NaN</td>\n",
       "      <td>Neutral</td>\n",
       "    </tr>\n",
       "  </tbody>\n",
       "</table>\n",
       "</div>"
      ],
      "text/plain": [
       "                                       OriginalTweet Sentiment\n",
       "1  advice talk neighbours family exchange phone n...  Positive\n",
       "2  coronavirus australia: woolworths give elderly...  Positive\n",
       "5  news regionas first confirmed covid-19 case ca...  Positive\n",
       "6  cashier grocery store sharing insights  prove ...  Positive\n",
       "7            supermarket today. buy toilet paper.NaN   Neutral"
      ]
     },
     "execution_count": 27,
     "metadata": {},
     "output_type": "execute_result"
    }
   ],
   "source": [
    "train_data.head()"
   ]
  },
  {
   "cell_type": "code",
   "execution_count": 28,
   "id": "bc6615c7",
   "metadata": {
    "id": "bc6615c7",
    "outputId": "7b8f7b3d-6aef-4c74-86ee-00e05fa830ca"
   },
   "outputs": [
    {
     "data": {
      "text/html": [
       "<div>\n",
       "<style scoped>\n",
       "    .dataframe tbody tr th:only-of-type {\n",
       "        vertical-align: middle;\n",
       "    }\n",
       "\n",
       "    .dataframe tbody tr th {\n",
       "        vertical-align: top;\n",
       "    }\n",
       "\n",
       "    .dataframe thead th {\n",
       "        text-align: right;\n",
       "    }\n",
       "</style>\n",
       "<table border=\"1\" class=\"dataframe\">\n",
       "  <thead>\n",
       "    <tr style=\"text-align: right;\">\n",
       "      <th></th>\n",
       "      <th>OriginalTweet</th>\n",
       "      <th>Sentiment</th>\n",
       "    </tr>\n",
       "  </thead>\n",
       "  <tbody>\n",
       "    <tr>\n",
       "      <th>0</th>\n",
       "      <td>advice talk neighbours family exchange phone n...</td>\n",
       "      <td>Positive</td>\n",
       "    </tr>\n",
       "    <tr>\n",
       "      <th>1</th>\n",
       "      <td>coronavirus australia: woolworths give elderly...</td>\n",
       "      <td>Positive</td>\n",
       "    </tr>\n",
       "    <tr>\n",
       "      <th>2</th>\n",
       "      <td>news regionas first confirmed covid-19 case ca...</td>\n",
       "      <td>Positive</td>\n",
       "    </tr>\n",
       "    <tr>\n",
       "      <th>3</th>\n",
       "      <td>cashier grocery store sharing insights  prove ...</td>\n",
       "      <td>Positive</td>\n",
       "    </tr>\n",
       "    <tr>\n",
       "      <th>4</th>\n",
       "      <td>supermarket today. buy toilet paper.NaN</td>\n",
       "      <td>Neutral</td>\n",
       "    </tr>\n",
       "  </tbody>\n",
       "</table>\n",
       "</div>"
      ],
      "text/plain": [
       "                                       OriginalTweet Sentiment\n",
       "0  advice talk neighbours family exchange phone n...  Positive\n",
       "1  coronavirus australia: woolworths give elderly...  Positive\n",
       "2  news regionas first confirmed covid-19 case ca...  Positive\n",
       "3  cashier grocery store sharing insights  prove ...  Positive\n",
       "4            supermarket today. buy toilet paper.NaN   Neutral"
      ]
     },
     "execution_count": 28,
     "metadata": {},
     "output_type": "execute_result"
    }
   ],
   "source": [
    "#Resetting index of dataframe to start from 0\n",
    "train_data = train_data.reset_index(drop = True)\n",
    "train_data.head()"
   ]
  },
  {
   "cell_type": "markdown",
   "id": "c5f4b73a",
   "metadata": {},
   "source": [
    "#### Spelling correction using TextBlob library's correct() function"
   ]
  },
  {
   "cell_type": "code",
   "execution_count": 29,
   "id": "f8fd74d5",
   "metadata": {
    "id": "f8fd74d5"
   },
   "outputs": [],
   "source": [
    "# TextBlob Spell correct() function takes looooong time to correct 41K rows, so we extract just 5 rows from our dataframe and \n",
    "# demonstrate spell correction using TextBlob correct() function\n",
    "smaller_train_data = train_data[:10]"
   ]
  },
  {
   "cell_type": "code",
   "execution_count": 30,
   "id": "b7d79a84",
   "metadata": {
    "id": "b7d79a84",
    "outputId": "5fb39c12-ce6f-4c2d-a154-204807d20dd6"
   },
   "outputs": [
    {
     "data": {
      "text/plain": [
       "(10, 2)"
      ]
     },
     "execution_count": 30,
     "metadata": {},
     "output_type": "execute_result"
    }
   ],
   "source": [
    "smaller_train_data.shape"
   ]
  },
  {
   "cell_type": "code",
   "execution_count": 31,
   "id": "fd218264",
   "metadata": {
    "id": "fd218264",
    "outputId": "df0aa86c-0f30-4383-b2c1-48588b25e529"
   },
   "outputs": [
    {
     "data": {
      "text/html": [
       "<div>\n",
       "<style scoped>\n",
       "    .dataframe tbody tr th:only-of-type {\n",
       "        vertical-align: middle;\n",
       "    }\n",
       "\n",
       "    .dataframe tbody tr th {\n",
       "        vertical-align: top;\n",
       "    }\n",
       "\n",
       "    .dataframe thead th {\n",
       "        text-align: right;\n",
       "    }\n",
       "</style>\n",
       "<table border=\"1\" class=\"dataframe\">\n",
       "  <thead>\n",
       "    <tr style=\"text-align: right;\">\n",
       "      <th></th>\n",
       "      <th>OriginalTweet</th>\n",
       "      <th>Sentiment</th>\n",
       "      <th>SpellCorrectedTweet</th>\n",
       "    </tr>\n",
       "  </thead>\n",
       "  <tbody>\n",
       "    <tr>\n",
       "      <th>0</th>\n",
       "      <td>advice talk neighbours family exchange phone n...</td>\n",
       "      <td>Positive</td>\n",
       "      <td>advice talk neighbours family exchange phone n...</td>\n",
       "    </tr>\n",
       "    <tr>\n",
       "      <th>1</th>\n",
       "      <td>coronavirus australia: woolworths give elderly...</td>\n",
       "      <td>Positive</td>\n",
       "      <td>coronavirus australia: woolworths give elderly...</td>\n",
       "    </tr>\n",
       "    <tr>\n",
       "      <th>2</th>\n",
       "      <td>news regionas first confirmed covid-19 case ca...</td>\n",
       "      <td>Positive</td>\n",
       "      <td>news regions first confirmed could-19 case cam...</td>\n",
       "    </tr>\n",
       "    <tr>\n",
       "      <th>3</th>\n",
       "      <td>cashier grocery store sharing insights  prove ...</td>\n",
       "      <td>Positive</td>\n",
       "      <td>cashier grocer store sharing insight  prove cr...</td>\n",
       "    </tr>\n",
       "    <tr>\n",
       "      <th>4</th>\n",
       "      <td>supermarket today. buy toilet paper.NaN</td>\n",
       "      <td>Neutral</td>\n",
       "      <td>supermarket today. buy toilet paper.a</td>\n",
       "    </tr>\n",
       "  </tbody>\n",
       "</table>\n",
       "</div>"
      ],
      "text/plain": [
       "                                       OriginalTweet Sentiment  \\\n",
       "0  advice talk neighbours family exchange phone n...  Positive   \n",
       "1  coronavirus australia: woolworths give elderly...  Positive   \n",
       "2  news regionas first confirmed covid-19 case ca...  Positive   \n",
       "3  cashier grocery store sharing insights  prove ...  Positive   \n",
       "4            supermarket today. buy toilet paper.NaN   Neutral   \n",
       "\n",
       "                                 SpellCorrectedTweet  \n",
       "0  advice talk neighbours family exchange phone n...  \n",
       "1  coronavirus australia: woolworths give elderly...  \n",
       "2  news regions first confirmed could-19 case cam...  \n",
       "3  cashier grocer store sharing insight  prove cr...  \n",
       "4              supermarket today. buy toilet paper.a  "
      ]
     },
     "execution_count": 31,
     "metadata": {},
     "output_type": "execute_result"
    }
   ],
   "source": [
    "# Spelling correction\n",
    "import warnings\n",
    "warnings.filterwarnings(\"ignore\")\n",
    "from textblob import TextBlob   \n",
    "smaller_train_data['SpellCorrectedTweet'] = smaller_train_data['OriginalTweet'].apply(lambda x : str(TextBlob(x).correct()))\n",
    "smaller_train_data.head()"
   ]
  },
  {
   "cell_type": "markdown",
   "id": "25a1ef6e",
   "metadata": {},
   "source": [
    "#### Tokenization"
   ]
  },
  {
   "cell_type": "code",
   "execution_count": 32,
   "id": "ac11b875",
   "metadata": {
    "id": "ac11b875",
    "outputId": "09055476-e519-43dd-b259-0fcb1554a070"
   },
   "outputs": [
    {
     "data": {
      "text/plain": [
       "0    [advice, talk, neighbours, family, exchange, p...\n",
       "1    [coronavirus, australia:, woolworths, give, el...\n",
       "2    [news, regionas, first, confirmed, covid-19, c...\n",
       "3    [cashier, grocery, store, sharing, insights, p...\n",
       "4        [supermarket, today., buy, toilet, paper.NaN]\n",
       "Name: OriginalTweet, dtype: object"
      ]
     },
     "execution_count": 32,
     "metadata": {},
     "output_type": "execute_result"
    }
   ],
   "source": [
    "# Now we will perform tokenization\n",
    "import nltk\n",
    "from nltk import word_tokenize\n",
    "tokenizer = nltk.tokenize.WhitespaceTokenizer()\n",
    "def tokenize(text):\n",
    "    return tokenizer.tokenize(text)\n",
    "\n",
    "train_data['OriginalTweet'] = train_data['OriginalTweet'].apply(tokenize)\n",
    "train_data['OriginalTweet'].head()"
   ]
  },
  {
   "cell_type": "markdown",
   "id": "22295ae5",
   "metadata": {},
   "source": [
    "#### Stemming"
   ]
  },
  {
   "cell_type": "code",
   "execution_count": 33,
   "id": "5330629b",
   "metadata": {
    "id": "5330629b",
    "outputId": "74d5df0a-7041-474b-8d1d-b910ba8e79a4"
   },
   "outputs": [
    {
     "data": {
      "text/html": [
       "<div>\n",
       "<style scoped>\n",
       "    .dataframe tbody tr th:only-of-type {\n",
       "        vertical-align: middle;\n",
       "    }\n",
       "\n",
       "    .dataframe tbody tr th {\n",
       "        vertical-align: top;\n",
       "    }\n",
       "\n",
       "    .dataframe thead th {\n",
       "        text-align: right;\n",
       "    }\n",
       "</style>\n",
       "<table border=\"1\" class=\"dataframe\">\n",
       "  <thead>\n",
       "    <tr style=\"text-align: right;\">\n",
       "      <th></th>\n",
       "      <th>OriginalTweet</th>\n",
       "      <th>Sentiment</th>\n",
       "    </tr>\n",
       "  </thead>\n",
       "  <tbody>\n",
       "    <tr>\n",
       "      <th>0</th>\n",
       "      <td>[advic, talk, neighbour, famili, exchang, phon...</td>\n",
       "      <td>Positive</td>\n",
       "    </tr>\n",
       "    <tr>\n",
       "      <th>1</th>\n",
       "      <td>[coronaviru, australia:, woolworth, give, elde...</td>\n",
       "      <td>Positive</td>\n",
       "    </tr>\n",
       "    <tr>\n",
       "      <th>2</th>\n",
       "      <td>[news, regiona, first, confirm, covid-19, case...</td>\n",
       "      <td>Positive</td>\n",
       "    </tr>\n",
       "    <tr>\n",
       "      <th>3</th>\n",
       "      <td>[cashier, groceri, store, share, insight, prov...</td>\n",
       "      <td>Positive</td>\n",
       "    </tr>\n",
       "    <tr>\n",
       "      <th>4</th>\n",
       "      <td>[supermarket, today., buy, toilet, paper.nan]</td>\n",
       "      <td>Neutral</td>\n",
       "    </tr>\n",
       "  </tbody>\n",
       "</table>\n",
       "</div>"
      ],
      "text/plain": [
       "                                       OriginalTweet Sentiment\n",
       "0  [advic, talk, neighbour, famili, exchang, phon...  Positive\n",
       "1  [coronaviru, australia:, woolworth, give, elde...  Positive\n",
       "2  [news, regiona, first, confirm, covid-19, case...  Positive\n",
       "3  [cashier, groceri, store, share, insight, prov...  Positive\n",
       "4      [supermarket, today., buy, toilet, paper.nan]   Neutral"
      ]
     },
     "execution_count": 33,
     "metadata": {},
     "output_type": "execute_result"
    }
   ],
   "source": [
    "# Stemming\n",
    "from nltk.stem import PorterStemmer\n",
    "stemmer = PorterStemmer()\n",
    "\n",
    "def stemming(text):\n",
    "    return [stemmer.stem(w) for w in text]\n",
    "\n",
    "train_data['OriginalTweet'] = train_data['OriginalTweet'].apply(stemming)\n",
    "train_data.head()"
   ]
  },
  {
   "cell_type": "markdown",
   "id": "fc5a45b3",
   "metadata": {},
   "source": [
    "##### Lemmatization"
   ]
  },
  {
   "cell_type": "code",
   "execution_count": 34,
   "id": "e7356a2f",
   "metadata": {
    "id": "e7356a2f",
    "outputId": "ce6fe6ff-c04a-41c9-b7c7-6932a0630399"
   },
   "outputs": [
    {
     "name": "stdout",
     "output_type": "stream",
     "text": [
      "CPU times: total: 2.3 s\n",
      "Wall time: 2.32 s\n"
     ]
    },
    {
     "data": {
      "text/html": [
       "<div>\n",
       "<style scoped>\n",
       "    .dataframe tbody tr th:only-of-type {\n",
       "        vertical-align: middle;\n",
       "    }\n",
       "\n",
       "    .dataframe tbody tr th {\n",
       "        vertical-align: top;\n",
       "    }\n",
       "\n",
       "    .dataframe thead th {\n",
       "        text-align: right;\n",
       "    }\n",
       "</style>\n",
       "<table border=\"1\" class=\"dataframe\">\n",
       "  <thead>\n",
       "    <tr style=\"text-align: right;\">\n",
       "      <th></th>\n",
       "      <th>OriginalTweet</th>\n",
       "      <th>Sentiment</th>\n",
       "    </tr>\n",
       "  </thead>\n",
       "  <tbody>\n",
       "    <tr>\n",
       "      <th>0</th>\n",
       "      <td>[advic, talk, neighbour, famili, exchang, phon...</td>\n",
       "      <td>Positive</td>\n",
       "    </tr>\n",
       "    <tr>\n",
       "      <th>1</th>\n",
       "      <td>[coronaviru, australia:, woolworth, give, elde...</td>\n",
       "      <td>Positive</td>\n",
       "    </tr>\n",
       "    <tr>\n",
       "      <th>2</th>\n",
       "      <td>[news, regiona, first, confirm, covid-19, case...</td>\n",
       "      <td>Positive</td>\n",
       "    </tr>\n",
       "    <tr>\n",
       "      <th>3</th>\n",
       "      <td>[cashier, groceri, store, share, insight, prov...</td>\n",
       "      <td>Positive</td>\n",
       "    </tr>\n",
       "    <tr>\n",
       "      <th>4</th>\n",
       "      <td>[supermarket, today., buy, toilet, paper.nan]</td>\n",
       "      <td>Neutral</td>\n",
       "    </tr>\n",
       "  </tbody>\n",
       "</table>\n",
       "</div>"
      ],
      "text/plain": [
       "                                       OriginalTweet Sentiment\n",
       "0  [advic, talk, neighbour, famili, exchang, phon...  Positive\n",
       "1  [coronaviru, australia:, woolworth, give, elde...  Positive\n",
       "2  [news, regiona, first, confirm, covid-19, case...  Positive\n",
       "3  [cashier, groceri, store, share, insight, prov...  Positive\n",
       "4      [supermarket, today., buy, toilet, paper.nan]   Neutral"
      ]
     },
     "execution_count": 34,
     "metadata": {},
     "output_type": "execute_result"
    }
   ],
   "source": [
    "%%time\n",
    "# Here we perform lemmatization\n",
    "import nltk\n",
    "tokenizer = nltk.tokenize.WhitespaceTokenizer()\n",
    "lemmatizer = nltk.stem.WordNetLemmatizer()\n",
    "\n",
    "def lemmatize(text):\n",
    "    return [lemmatizer.lemmatize(w) for w in text]\n",
    "\n",
    "train_data['OriginalTweet'] = train_data['OriginalTweet'].apply(lemmatize)\n",
    "train_data.head()"
   ]
  },
  {
   "cell_type": "code",
   "execution_count": 35,
   "id": "d8b7d764",
   "metadata": {
    "id": "d8b7d764",
    "outputId": "1e7e7d10-51f7-484c-b88f-6ccee52387d8"
   },
   "outputs": [
    {
     "data": {
      "text/html": [
       "<div>\n",
       "<style scoped>\n",
       "    .dataframe tbody tr th:only-of-type {\n",
       "        vertical-align: middle;\n",
       "    }\n",
       "\n",
       "    .dataframe tbody tr th {\n",
       "        vertical-align: top;\n",
       "    }\n",
       "\n",
       "    .dataframe thead th {\n",
       "        text-align: right;\n",
       "    }\n",
       "</style>\n",
       "<table border=\"1\" class=\"dataframe\">\n",
       "  <thead>\n",
       "    <tr style=\"text-align: right;\">\n",
       "      <th></th>\n",
       "      <th>OriginalTweet</th>\n",
       "      <th>Sentiment</th>\n",
       "    </tr>\n",
       "  </thead>\n",
       "  <tbody>\n",
       "    <tr>\n",
       "      <th>0</th>\n",
       "      <td>[advic, talk, neighbour, famili, exchang, phon...</td>\n",
       "      <td>Positive</td>\n",
       "    </tr>\n",
       "    <tr>\n",
       "      <th>1</th>\n",
       "      <td>[coronaviru, australia:, woolworth, give, elde...</td>\n",
       "      <td>Positive</td>\n",
       "    </tr>\n",
       "    <tr>\n",
       "      <th>2</th>\n",
       "      <td>[news, regiona, first, confirm, covid-19, case...</td>\n",
       "      <td>Positive</td>\n",
       "    </tr>\n",
       "    <tr>\n",
       "      <th>3</th>\n",
       "      <td>[cashier, groceri, store, share, insight, prov...</td>\n",
       "      <td>Positive</td>\n",
       "    </tr>\n",
       "    <tr>\n",
       "      <th>4</th>\n",
       "      <td>[supermarket, today., buy, toilet, paper.nan]</td>\n",
       "      <td>Neutral</td>\n",
       "    </tr>\n",
       "  </tbody>\n",
       "</table>\n",
       "</div>"
      ],
      "text/plain": [
       "                                       OriginalTweet Sentiment\n",
       "0  [advic, talk, neighbour, famili, exchang, phon...  Positive\n",
       "1  [coronaviru, australia:, woolworth, give, elde...  Positive\n",
       "2  [news, regiona, first, confirm, covid-19, case...  Positive\n",
       "3  [cashier, groceri, store, share, insight, prov...  Positive\n",
       "4      [supermarket, today., buy, toilet, paper.nan]   Neutral"
      ]
     },
     "execution_count": 35,
     "metadata": {},
     "output_type": "execute_result"
    }
   ],
   "source": [
    "train_data.head()"
   ]
  },
  {
   "cell_type": "markdown",
   "id": "0d06b28a",
   "metadata": {
    "id": "0d06b28a"
   },
   "source": [
    "#### Now we will do some data visualization, first we will plot the most frequent words in data using matplotlib then we will use scattertext  to display words in positive and negative sentiment categories"
   ]
  },
  {
   "cell_type": "code",
   "execution_count": 36,
   "id": "1529a63e",
   "metadata": {
    "id": "1529a63e",
    "outputId": "56adfc03-a814-435b-fe76-860e1d677adb"
   },
   "outputs": [
    {
     "data": {
      "text/plain": [
       "array(['Positive', 'Neutral', 'Negative', 'Extremely Positive',\n",
       "       'Extremely Negative'], dtype=object)"
      ]
     },
     "execution_count": 36,
     "metadata": {},
     "output_type": "execute_result"
    }
   ],
   "source": [
    "train_data['Sentiment'].unique()"
   ]
  },
  {
   "cell_type": "markdown",
   "id": "cfab1921",
   "metadata": {},
   "source": [
    "#### Counting most frequent words in tweets"
   ]
  },
  {
   "cell_type": "code",
   "execution_count": 37,
   "id": "46ca04cd",
   "metadata": {
    "id": "46ca04cd"
   },
   "outputs": [],
   "source": [
    "# Counting most frequent words in tweets\n",
    "#https://docs.python.org/3/library/itertools.html#itertools.chain\n",
    "import itertools\n",
    "import collections\n",
    "all_tweets = list(train_data[\"OriginalTweet\"])\n",
    "all_tokens = list(itertools.chain(*all_tweets))\n",
    "token_counts = collections.Counter(all_tokens)"
   ]
  },
  {
   "cell_type": "code",
   "execution_count": 38,
   "id": "7ea0d447",
   "metadata": {
    "id": "7ea0d447",
    "outputId": "ccd45391-9065-446a-bee6-21a50c3ef68e"
   },
   "outputs": [
    {
     "data": {
      "text/plain": [
       "[('price', 5786),\n",
       " ('store', 5088),\n",
       " ('groceri', 4886),\n",
       " ('food', 4716),\n",
       " ('supermarket', 4670),\n",
       " ('covid-19', 4281),\n",
       " ('consum', 3884),\n",
       " ('peopl', 3788),\n",
       " ('shop', 3203),\n",
       " ('go', 3056)]"
      ]
     },
     "execution_count": 38,
     "metadata": {},
     "output_type": "execute_result"
    }
   ],
   "source": [
    "token_counts.most_common(10)"
   ]
  },
  {
   "cell_type": "code",
   "execution_count": 39,
   "id": "1c488fc6",
   "metadata": {
    "id": "1c488fc6",
    "outputId": "9efd1bc3-2517-46ce-e3b2-2845714597ca"
   },
   "outputs": [
    {
     "data": {
      "text/html": [
       "<div>\n",
       "<style scoped>\n",
       "    .dataframe tbody tr th:only-of-type {\n",
       "        vertical-align: middle;\n",
       "    }\n",
       "\n",
       "    .dataframe tbody tr th {\n",
       "        vertical-align: top;\n",
       "    }\n",
       "\n",
       "    .dataframe thead th {\n",
       "        text-align: right;\n",
       "    }\n",
       "</style>\n",
       "<table border=\"1\" class=\"dataframe\">\n",
       "  <thead>\n",
       "    <tr style=\"text-align: right;\">\n",
       "      <th></th>\n",
       "      <th>Token</th>\n",
       "      <th>Count</th>\n",
       "    </tr>\n",
       "  </thead>\n",
       "  <tbody>\n",
       "    <tr>\n",
       "      <th>0</th>\n",
       "      <td>price</td>\n",
       "      <td>5786</td>\n",
       "    </tr>\n",
       "    <tr>\n",
       "      <th>1</th>\n",
       "      <td>store</td>\n",
       "      <td>5088</td>\n",
       "    </tr>\n",
       "    <tr>\n",
       "      <th>2</th>\n",
       "      <td>groceri</td>\n",
       "      <td>4886</td>\n",
       "    </tr>\n",
       "    <tr>\n",
       "      <th>3</th>\n",
       "      <td>food</td>\n",
       "      <td>4716</td>\n",
       "    </tr>\n",
       "    <tr>\n",
       "      <th>4</th>\n",
       "      <td>supermarket</td>\n",
       "      <td>4670</td>\n",
       "    </tr>\n",
       "  </tbody>\n",
       "</table>\n",
       "</div>"
      ],
      "text/plain": [
       "         Token  Count\n",
       "0        price   5786\n",
       "1        store   5088\n",
       "2      groceri   4886\n",
       "3         food   4716\n",
       "4  supermarket   4670"
      ]
     },
     "execution_count": 39,
     "metadata": {},
     "output_type": "execute_result"
    }
   ],
   "source": [
    "df = pd.DataFrame(token_counts.most_common(20), columns=['Token','Count'])\n",
    "df.head()"
   ]
  },
  {
   "cell_type": "code",
   "execution_count": 40,
   "id": "c0f2d7f3",
   "metadata": {
    "id": "c0f2d7f3",
    "outputId": "a07ac5e3-d553-4a6e-efb7-2e09f1fb60f2"
   },
   "outputs": [
    {
     "data": {
      "image/png": "[encoded data removed]",
      "text/plain": [
       "<Figure size 864x576 with 1 Axes>"
      ]
     },
     "metadata": {
      "needs_background": "light"
     },
     "output_type": "display_data"
    }
   ],
   "source": [
    "import matplotlib.pyplot as plt\n",
    "plt.rcParams[\"figure.figsize\"] = (12,8)\n",
    "df.sort_values(by = 'Count').plot.bar(x='Token', y='Count')\n",
    "plt.title('Most Used Words')\n",
    "plt.show()"
   ]
  },
  {
   "cell_type": "markdown",
   "id": "d1d505ba",
   "metadata": {
    "id": "d1d505ba"
   },
   "source": [
    "### scattertext library\n",
    "\n",
    "https://github.com/JasonKessler/scattertext/blob/master/README.md\n",
    "\n",
    "- scattertext is a tool for finding distinguishing terms in corpora and displaying them in an interactive HTML scatter plot. \n",
    "- Points corresponding to terms are selectively labeled so that they don't overlap with other labels or points."
   ]
  },
  {
   "cell_type": "code",
   "execution_count": null,
   "id": "b8775f9a",
   "metadata": {
    "id": "b8775f9a"
   },
   "outputs": [],
   "source": [
    "# installing scattertext from JupyterNotebook, to install uncomment the below line of code\n",
    "#!pip install scattertext"
   ]
  },
  {
   "cell_type": "code",
   "execution_count": 41,
   "id": "3d5a8f0e",
   "metadata": {
    "id": "3d5a8f0e",
    "outputId": "c166e7a8-195d-441a-887a-a5ae2e214b47"
   },
   "outputs": [
    {
     "data": {
      "text/html": [
       "<div>\n",
       "<style scoped>\n",
       "    .dataframe tbody tr th:only-of-type {\n",
       "        vertical-align: middle;\n",
       "    }\n",
       "\n",
       "    .dataframe tbody tr th {\n",
       "        vertical-align: top;\n",
       "    }\n",
       "\n",
       "    .dataframe thead th {\n",
       "        text-align: right;\n",
       "    }\n",
       "</style>\n",
       "<table border=\"1\" class=\"dataframe\">\n",
       "  <thead>\n",
       "    <tr style=\"text-align: right;\">\n",
       "      <th></th>\n",
       "      <th>OriginalTweet</th>\n",
       "      <th>Sentiment</th>\n",
       "    </tr>\n",
       "  </thead>\n",
       "  <tbody>\n",
       "    <tr>\n",
       "      <th>0</th>\n",
       "      <td>[advic, talk, neighbour, famili, exchang, phon...</td>\n",
       "      <td>Positive</td>\n",
       "    </tr>\n",
       "    <tr>\n",
       "      <th>1</th>\n",
       "      <td>[coronaviru, australia:, woolworth, give, elde...</td>\n",
       "      <td>Positive</td>\n",
       "    </tr>\n",
       "    <tr>\n",
       "      <th>2</th>\n",
       "      <td>[news, regiona, first, confirm, covid-19, case...</td>\n",
       "      <td>Positive</td>\n",
       "    </tr>\n",
       "    <tr>\n",
       "      <th>3</th>\n",
       "      <td>[cashier, groceri, store, share, insight, prov...</td>\n",
       "      <td>Positive</td>\n",
       "    </tr>\n",
       "    <tr>\n",
       "      <th>4</th>\n",
       "      <td>[supermarket, today., buy, toilet, paper.nan]</td>\n",
       "      <td>Neutral</td>\n",
       "    </tr>\n",
       "  </tbody>\n",
       "</table>\n",
       "</div>"
      ],
      "text/plain": [
       "                                       OriginalTweet Sentiment\n",
       "0  [advic, talk, neighbour, famili, exchang, phon...  Positive\n",
       "1  [coronaviru, australia:, woolworth, give, elde...  Positive\n",
       "2  [news, regiona, first, confirm, covid-19, case...  Positive\n",
       "3  [cashier, groceri, store, share, insight, prov...  Positive\n",
       "4      [supermarket, today., buy, toilet, paper.nan]   Neutral"
      ]
     },
     "execution_count": 41,
     "metadata": {},
     "output_type": "execute_result"
    }
   ],
   "source": [
    "train_data.head()"
   ]
  },
  {
   "cell_type": "code",
   "execution_count": 42,
   "id": "8c154f08",
   "metadata": {
    "id": "8c154f08",
    "outputId": "5d701288-c681-49eb-bfd5-4b1758437b99"
   },
   "outputs": [
    {
     "data": {
      "text/html": [
       "<div>\n",
       "<style scoped>\n",
       "    .dataframe tbody tr th:only-of-type {\n",
       "        vertical-align: middle;\n",
       "    }\n",
       "\n",
       "    .dataframe tbody tr th {\n",
       "        vertical-align: top;\n",
       "    }\n",
       "\n",
       "    .dataframe thead th {\n",
       "        text-align: right;\n",
       "    }\n",
       "</style>\n",
       "<table border=\"1\" class=\"dataframe\">\n",
       "  <thead>\n",
       "    <tr style=\"text-align: right;\">\n",
       "      <th></th>\n",
       "      <th>OriginalTweet</th>\n",
       "      <th>Sentiment</th>\n",
       "    </tr>\n",
       "  </thead>\n",
       "  <tbody>\n",
       "    <tr>\n",
       "      <th>0</th>\n",
       "      <td>[advic, talk, neighbour, famili, exchang, phon...</td>\n",
       "      <td>Positive</td>\n",
       "    </tr>\n",
       "    <tr>\n",
       "      <th>1</th>\n",
       "      <td>[coronaviru, australia:, woolworth, give, elde...</td>\n",
       "      <td>Positive</td>\n",
       "    </tr>\n",
       "    <tr>\n",
       "      <th>2</th>\n",
       "      <td>[news, regiona, first, confirm, covid-19, case...</td>\n",
       "      <td>Positive</td>\n",
       "    </tr>\n",
       "    <tr>\n",
       "      <th>3</th>\n",
       "      <td>[cashier, groceri, store, share, insight, prov...</td>\n",
       "      <td>Positive</td>\n",
       "    </tr>\n",
       "    <tr>\n",
       "      <th>5</th>\n",
       "      <td>[due, covid-19, retail, store, classroom, atla...</td>\n",
       "      <td>Positive</td>\n",
       "    </tr>\n",
       "  </tbody>\n",
       "</table>\n",
       "</div>"
      ],
      "text/plain": [
       "                                       OriginalTweet Sentiment\n",
       "0  [advic, talk, neighbour, famili, exchang, phon...  Positive\n",
       "1  [coronaviru, australia:, woolworth, give, elde...  Positive\n",
       "2  [news, regiona, first, confirm, covid-19, case...  Positive\n",
       "3  [cashier, groceri, store, share, insight, prov...  Positive\n",
       "5  [due, covid-19, retail, store, classroom, atla...  Positive"
      ]
     },
     "execution_count": 42,
     "metadata": {},
     "output_type": "execute_result"
    }
   ],
   "source": [
    "pos_neg_tweets = train_data.loc[(train_data['Sentiment']=='Negative')|(train_data['Sentiment']=='Positive')]\n",
    "pos_neg_tweets.reset_index(drop = True)\n",
    "pos_neg_tweets.head()"
   ]
  },
  {
   "cell_type": "code",
   "execution_count": 43,
   "id": "f3e73258",
   "metadata": {
    "id": "f3e73258",
    "outputId": "364149f0-4b23-4f8a-9450-bdadbbc4a7bc"
   },
   "outputs": [
    {
     "data": {
      "text/html": [
       "<div>\n",
       "<style scoped>\n",
       "    .dataframe tbody tr th:only-of-type {\n",
       "        vertical-align: middle;\n",
       "    }\n",
       "\n",
       "    .dataframe tbody tr th {\n",
       "        vertical-align: top;\n",
       "    }\n",
       "\n",
       "    .dataframe thead th {\n",
       "        text-align: right;\n",
       "    }\n",
       "</style>\n",
       "<table border=\"1\" class=\"dataframe\">\n",
       "  <thead>\n",
       "    <tr style=\"text-align: right;\">\n",
       "      <th></th>\n",
       "      <th>OriginalTweet</th>\n",
       "      <th>Sentiment</th>\n",
       "    </tr>\n",
       "  </thead>\n",
       "  <tbody>\n",
       "    <tr>\n",
       "      <th>0</th>\n",
       "      <td>advic, talk, neighbour, famili, exchang, phone...</td>\n",
       "      <td>Positive</td>\n",
       "    </tr>\n",
       "    <tr>\n",
       "      <th>1</th>\n",
       "      <td>coronaviru, australia:, woolworth, give, elder...</td>\n",
       "      <td>Positive</td>\n",
       "    </tr>\n",
       "    <tr>\n",
       "      <th>2</th>\n",
       "      <td>news, regiona, first, confirm, covid-19, case,...</td>\n",
       "      <td>Positive</td>\n",
       "    </tr>\n",
       "    <tr>\n",
       "      <th>3</th>\n",
       "      <td>cashier, groceri, store, share, insight, prove...</td>\n",
       "      <td>Positive</td>\n",
       "    </tr>\n",
       "    <tr>\n",
       "      <th>5</th>\n",
       "      <td>due, covid-19, retail, store, classroom, atlan...</td>\n",
       "      <td>Positive</td>\n",
       "    </tr>\n",
       "  </tbody>\n",
       "</table>\n",
       "</div>"
      ],
      "text/plain": [
       "                                       OriginalTweet Sentiment\n",
       "0  advic, talk, neighbour, famili, exchang, phone...  Positive\n",
       "1  coronaviru, australia:, woolworth, give, elder...  Positive\n",
       "2  news, regiona, first, confirm, covid-19, case,...  Positive\n",
       "3  cashier, groceri, store, share, insight, prove...  Positive\n",
       "5  due, covid-19, retail, store, classroom, atlan...  Positive"
      ]
     },
     "execution_count": 43,
     "metadata": {},
     "output_type": "execute_result"
    }
   ],
   "source": [
    "import warnings\n",
    "warnings.filterwarnings(\"ignore\")\n",
    "# converting token lists to strings using join() on each row or the OriginalTweet column\n",
    "pos_neg_tweets['OriginalTweet'] = pos_neg_tweets.loc[:, 'OriginalTweet'].apply(lambda x: ', '.join(x))\n",
    "pos_neg_tweets.head()"
   ]
  },
  {
   "cell_type": "markdown",
   "id": "f206ef82",
   "metadata": {},
   "source": [
    "#### Parsing OriginalTweet column using SpaCy's NLP pipeline "
   ]
  },
  {
   "cell_type": "code",
   "execution_count": 44,
   "id": "d47398c1",
   "metadata": {
    "id": "d47398c1",
    "outputId": "44c54998-4ec5-48fd-9b52-b16a5daee2ca"
   },
   "outputs": [
    {
     "data": {
      "text/html": [
       "<div>\n",
       "<style scoped>\n",
       "    .dataframe tbody tr th:only-of-type {\n",
       "        vertical-align: middle;\n",
       "    }\n",
       "\n",
       "    .dataframe tbody tr th {\n",
       "        vertical-align: top;\n",
       "    }\n",
       "\n",
       "    .dataframe thead th {\n",
       "        text-align: right;\n",
       "    }\n",
       "</style>\n",
       "<table border=\"1\" class=\"dataframe\">\n",
       "  <thead>\n",
       "    <tr style=\"text-align: right;\">\n",
       "      <th></th>\n",
       "      <th>OriginalTweet</th>\n",
       "      <th>Sentiment</th>\n",
       "      <th>parsed</th>\n",
       "    </tr>\n",
       "  </thead>\n",
       "  <tbody>\n",
       "    <tr>\n",
       "      <th>0</th>\n",
       "      <td>advic, talk, neighbour, famili, exchang, phone...</td>\n",
       "      <td>Positive</td>\n",
       "      <td>(advic, ,, talk, ,, neighbour, ,, famili, ,, e...</td>\n",
       "    </tr>\n",
       "    <tr>\n",
       "      <th>1</th>\n",
       "      <td>coronaviru, australia:, woolworth, give, elder...</td>\n",
       "      <td>Positive</td>\n",
       "      <td>(coronaviru, ,, australia, :, ,, woolworth, ,,...</td>\n",
       "    </tr>\n",
       "    <tr>\n",
       "      <th>2</th>\n",
       "      <td>news, regiona, first, confirm, covid-19, case,...</td>\n",
       "      <td>Positive</td>\n",
       "      <td>(news, ,, regiona, ,, first, ,, confirm, ,, co...</td>\n",
       "    </tr>\n",
       "    <tr>\n",
       "      <th>3</th>\n",
       "      <td>cashier, groceri, store, share, insight, prove...</td>\n",
       "      <td>Positive</td>\n",
       "      <td>(cashier, ,, groceri, ,, store, ,, share, ,, i...</td>\n",
       "    </tr>\n",
       "    <tr>\n",
       "      <th>5</th>\n",
       "      <td>due, covid-19, retail, store, classroom, atlan...</td>\n",
       "      <td>Positive</td>\n",
       "      <td>(due, ,, covid-19, ,, retail, ,, store, ,, cla...</td>\n",
       "    </tr>\n",
       "  </tbody>\n",
       "</table>\n",
       "</div>"
      ],
      "text/plain": [
       "                                       OriginalTweet Sentiment  \\\n",
       "0  advic, talk, neighbour, famili, exchang, phone...  Positive   \n",
       "1  coronaviru, australia:, woolworth, give, elder...  Positive   \n",
       "2  news, regiona, first, confirm, covid-19, case,...  Positive   \n",
       "3  cashier, groceri, store, share, insight, prove...  Positive   \n",
       "5  due, covid-19, retail, store, classroom, atlan...  Positive   \n",
       "\n",
       "                                              parsed  \n",
       "0  (advic, ,, talk, ,, neighbour, ,, famili, ,, e...  \n",
       "1  (coronaviru, ,, australia, :, ,, woolworth, ,,...  \n",
       "2  (news, ,, regiona, ,, first, ,, confirm, ,, co...  \n",
       "3  (cashier, ,, groceri, ,, store, ,, share, ,, i...  \n",
       "5  (due, ,, covid-19, ,, retail, ,, store, ,, cla...  "
      ]
     },
     "execution_count": 44,
     "metadata": {},
     "output_type": "execute_result"
    }
   ],
   "source": [
    "import warnings\n",
    "warnings.filterwarnings(\"ignore\")\n",
    "\n",
    "import spacy\n",
    "nlp = spacy.load('en_core_web_sm')\n",
    "def parsetweets(text):\n",
    "    text = text\n",
    "    parsedtext = nlp(text)\n",
    "    return parsedtext\n",
    "\n",
    "\n",
    "pos_neg_tweets['parsed'] = pos_neg_tweets.loc[:,'OriginalTweet'].apply(parsetweets)\n",
    "pos_neg_tweets.head()"
   ]
  },
  {
   "cell_type": "markdown",
   "id": "ff5445b1",
   "metadata": {},
   "source": [
    "#### Plotting an interactive scattertext display"
   ]
  },
  {
   "cell_type": "code",
   "execution_count": 45,
   "id": "44a4368b",
   "metadata": {
    "id": "44a4368b",
    "outputId": "45fd5c6e-478e-4d3f-cc2b-ebe131a5dac1"
   },
   "outputs": [
    {
     "data": {
      "text/html": [
       "\n",
       "        <iframe\n",
       "            width=\"800\"\n",
       "            height=\"700\"\n",
       "            src=\"posnegtweets.html\"\n",
       "            frameborder=\"0\"\n",
       "            allowfullscreen\n",
       "            \n",
       "        ></iframe>\n",
       "        "
      ],
      "text/plain": [
       "<IPython.lib.display.IFrame at 0x230a637cdf0>"
      ]
     },
     "execution_count": 45,
     "metadata": {},
     "output_type": "execute_result"
    }
   ],
   "source": [
    "import scattertext as st\n",
    "from IPython.display import IFrame, display, HTML\n",
    "from scattertext import CorpusFromPandas, produce_scattertext_explorer\n",
    "\n",
    "corpus = st.CorpusFromParsedDocuments(pos_neg_tweets.iloc[:1000,:], category_col ='Sentiment', parsed_col='parsed').build()\n",
    "html = st.produce_scattertext_explorer(corpus, category = 'Negative', category_name='Negative',\n",
    "                                      not_category_name='Positive', minimum_term_frequency=10,\n",
    "                                      width_in_pixels=1000, transform = st.Scalers.log_scale_standardize)\n",
    "file_name = 'posnegtweets.html'\n",
    "open(file_name, 'wb').write(html.encode('utf-8'))\n",
    "IFrame(src=file_name, width = 800, height = 700)"
   ]
  },
  {
   "cell_type": "markdown",
   "id": "6f6e114f",
   "metadata": {
    "id": "6f6e114f"
   },
   "source": [
    "## References Text Representation\n",
    "1. https://nlp-ensae.github.io/files/2-ML-FOR-NLP-2022.pdf\n",
    "2. https://www.scaler.com/topics/nlp/text-representation-in-nlp/\n",
    "3. https://nlp-ensae.github.io/materials/course2/\n",
    "4. https://nlp-ensae.github.io/files/2-ML-FOR-NLP-2022.pdf\n",
    "5. https://nlp-ensae.github.io/materials/\n",
    "6. https://www.analyticsvidhya.com/blog/2022/02/machine-learning-techniques-for-text-representation-in-nlp/\n",
    "7. https://towardsdatascience.com/introduction-to-text-representations-for-language-processing-part-1-dc6e8068b8a4\n",
    "8. https://appliedsingularity.com/2022/01/04/nlp-tutorials%E2%80%8A-%E2%80%8Apart-2-text-representation-word-embeddings/#:~:text=To%20put%20it%20in%20simple,pipeline%20after%20Text%20Pre%2Dprocessing.\n",
    "9. https://medium.com/analytics-vidhya/deep-learning-techniques-for-text-representation-part-1-75c4ad4aa133\n",
    "10. https://www.youtube.com/watch?v=viZrOnJclY0\n",
    "11. https://appliedsingularity.com/2022/01/04/nlp-tutorials%E2%80%8A-%E2%80%8Apart-2-text-representation-word-embeddings/#:~:text=To%20put%20it%20in%20simple,pipeline%20after%20Text%20Pre%2Dprocessing"
   ]
  },
  {
   "cell_type": "markdown",
   "id": "a615cb85",
   "metadata": {
    "id": "a615cb85"
   },
   "source": [
    "### Text Representation\n",
    "\n",
    "- Text data exists in the form of alphabets, words, symbols, digits, or a collection of all of these. E.g. 'India', ',', 'Covid19' etc. \n",
    "- Before we can apply machine learning/deep learning algorithms to text data, we must represent the text in numerical form. Both the individual words and well as documents of text can be converted into vectors of floating point-numbers. \n",
    "- The process of representing a token, a sentence as a numerical vector is called 'Embedding', the multi-dimensional space of these vectors is called as the embedding space. \n",
    "- Deep neural network archictures like Recurrent Neural Networks, Long Short Term Memory networks, Transformers require text to be input in the form of fixed-dimensional numerical vectors. \n",
    "\n",
    "#### Some terminology:\n",
    "1. Document: A document is a collection of many words. \n",
    "2. Vocabulary: Vocabulary is the set of unique words in a document.\n",
    "3. Token: A token is a basic unit of discrete data. It often refers to a single word or a punctuation mark.\n",
    "4. Corpus: A corpus is a collection of documents.\n",
    "5. Context : Context of a word/token is the words/tokens that surround it on left and right in the document.\n",
    "6. Vector Embedding: Vector based representations of text are called as Embedding. E.g., word2vec or GLoVE are unsupervised methods based on corpus statistics. Frameworks like tensorflow and keras support “Embedding layers”. \n",
    "\n",
    "#### Text representation should have following properties:\n",
    "1. It should uniquely identify a word (has to be a bijection)\n",
    "2. Should capture the morphological, syntactic and semantic similarity among words. Related words should appear closer in Eudlidean space than the unrelated words. \n",
    "3. Arithmetic operations should be possible on these representations. e.g., 'cloud' +'sky'– 'sun' might yield something near 'rain'.\n",
    "4. Tasks like computing word similarities and relationships should be easy with the representations. \n",
    "5. It should be easy to map from word to its embedding easily and vice versa. \n",
    "\n",
    "#### Some prominent techniques for text representation: \n",
    "\n",
    "1. One-Hot Encoding\n",
    "2. Bag of Words Model - CountVectorizer and CountVectorizer with n-grams\n",
    "3. Tf-Idf Model\n",
    "5. Word2Vec Embedding\n",
    "6. GloVe Embedding\n",
    "7. FastText Embedding"
   ]
  },
  {
   "cell_type": "markdown",
   "id": "87565627",
   "metadata": {
    "id": "87565627"
   },
   "source": [
    "##### One-Hot Encoding : \n",
    "This is the simplest technique of representing text as numerical vectors. Every word is represented as a unique 'One-Hot' binary vector of 0s and 1s. For every unique word in the vocabulary, the vector contains a single 1 and rest all values are 0s, the position of 1 in the vector uniquely identifies a word. \n",
    "\n",
    "Example:\n",
    "\n",
    "|Fruit|\tApple|\tBanana|\tOrange|\tMango|\tVector|\n",
    "|-    |-  |-     |-     |-     |-       |\n",
    "|Apple|\t1    |\t0|\t0\t|0\t|[1, 0, 0, 0]|\n",
    "|Banana|\t0|\t1|\t0\t|0\t|[0, 1, 0, 0]|\n",
    "|Orange|\t0|\t0|\t1\t|0\t|[0, 0, 1, 0]|\n",
    "|Mango|\t0|\t0|\t0\t|1\t|[0, 0, 0, 1]|\n"
   ]
  },
  {
   "cell_type": "code",
   "execution_count": 125,
   "id": "dce25a87",
   "metadata": {
    "id": "dce25a87",
    "outputId": "9ae0e9dd-237e-4acd-b363-b765da7976af"
   },
   "outputs": [],
   "source": [
    "from sklearn.preprocessing import OneHotEncoder\n",
    "import nltk\n",
    "from nltk import word_tokenize\n",
    "document = \"The rose is red. The violet is blue.\"\n",
    "document = document.split()\n",
    "tokens = [doc.split(\" \") for doc in document]\n",
    "\n",
    "wordids = {token: idx for idx, token in enumerate(set(document))}\n",
    "tokenids = [[word_to_id[token] for token in toke] for toke in tokens]\n"
   ]
  },
  {
   "cell_type": "code",
   "execution_count": 126,
   "id": "27e09d2b",
   "metadata": {},
   "outputs": [
    {
     "data": {
      "text/plain": [
       "['The', 'rose', 'is', 'red.', 'The', 'violet', 'is', 'blue.']"
      ]
     },
     "execution_count": 126,
     "metadata": {},
     "output_type": "execute_result"
    }
   ],
   "source": [
    "document"
   ]
  },
  {
   "cell_type": "code",
   "execution_count": 127,
   "id": "accd4874",
   "metadata": {},
   "outputs": [
    {
     "data": {
      "text/plain": [
       "[['The'], ['rose'], ['is'], ['red.'], ['The'], ['violet'], ['is'], ['blue.']]"
      ]
     },
     "execution_count": 127,
     "metadata": {},
     "output_type": "execute_result"
    }
   ],
   "source": [
    "tokens"
   ]
  },
  {
   "cell_type": "code",
   "execution_count": 128,
   "id": "93727c72",
   "metadata": {},
   "outputs": [
    {
     "data": {
      "text/plain": [
       "{'violet': 0, 'blue.': 1, 'rose': 2, 'red.': 3, 'is': 4, 'The': 5}"
      ]
     },
     "execution_count": 128,
     "metadata": {},
     "output_type": "execute_result"
    }
   ],
   "source": [
    "wordids"
   ]
  },
  {
   "cell_type": "code",
   "execution_count": 129,
   "id": "fce54d86",
   "metadata": {},
   "outputs": [
    {
     "data": {
      "text/plain": [
       "[[5], [2], [4], [3], [5], [0], [4], [1]]"
      ]
     },
     "execution_count": 129,
     "metadata": {},
     "output_type": "execute_result"
    }
   ],
   "source": [
    "tokenids"
   ]
  },
  {
   "cell_type": "code",
   "execution_count": 131,
   "id": "462095c2",
   "metadata": {
    "id": "462095c2",
    "outputId": "e3d3790f-f590-4f17-dcf6-d7847c479922"
   },
   "outputs": [
    {
     "name": "stdout",
     "output_type": "stream",
     "text": [
      "[[0. 0. 0. 0. 0. 1.]\n",
      " [0. 0. 1. 0. 0. 0.]\n",
      " [0. 0. 0. 0. 1. 0.]\n",
      " [0. 0. 0. 1. 0. 0.]\n",
      " [0. 0. 0. 0. 0. 1.]\n",
      " [1. 0. 0. 0. 0. 0.]\n",
      " [0. 0. 0. 0. 1. 0.]\n",
      " [0. 1. 0. 0. 0. 0.]]\n"
     ]
    }
   ],
   "source": [
    "onehotmodel = OneHotEncoder()\n",
    "vectors = onehotmodel.fit_transform(tokenids)\n",
    "print(vectors.todense())"
   ]
  },
  {
   "cell_type": "markdown",
   "id": "66181768",
   "metadata": {
    "id": "66181768"
   },
   "source": [
    "#### Bag of words representation: CountVectorizer\n",
    "https://en.wikipedia.org/wiki/Bag-of-words_model\n",
    "\n",
    "Bag-of-words(BoW) is an orderless representation of text that describes the occurrence of words within a document. It has a vocabulary of known words in the document and a measure of the presence of known words. Bag-of-words model does not contain any information about the order or structure of words in the document. \n",
    "\n",
    "Example:\n",
    "\n",
    "Document1: John likes to watch movies. Mary likes movies too.\n",
    "\n",
    "Document2: Mary also likes to watch football games.\n",
    "\n",
    "Vocabulary1: \"John\",\"likes\",\"to\",\"watch\",\"movies\",\"Mary\",\"likes\",\"movies\",\"too\"\n",
    "\n",
    "Vocabulary2: \"Mary\",\"also\",\"likes\",\"to\",\"watch\",\"football\",\"games\"\n",
    "\n",
    "BoW1 = {\"John\":1,\"likes\":2,\"to\":1,\"watch\":1,\"movies\":2,\"Mary\":1,\"too\":1};\n",
    "\n",
    "BoW2 = {\"Mary\":1,\"also\":1,\"likes\":1,\"to\":1,\"watch\":1,\"football\":1,\"games\":1};\n",
    "\n",
    "\n",
    "Document3 is a union of document1 and document2 (has the words from document 1 and document 2)\n",
    "\n",
    "Document3: John likes to watch movies. Mary likes movies too. Mary also likes to watch football games.\n",
    "\n",
    "BoW3: {\"John\":1,\"likes\":3,\"to\":2,\"watch\":2,\"movies\":2,\"Mary\":2,\"too\":1,\"also\":1,\"football\":1,\"games\":1};"
   ]
  },
  {
   "cell_type": "code",
   "execution_count": 132,
   "id": "f17be033",
   "metadata": {
    "id": "f17be033"
   },
   "outputs": [],
   "source": [
    "# This process_text() function returns list of cleaned tokens of the text\n",
    "import numpy\n",
    "import re\n",
    "import string\n",
    "import unicodedata\n",
    "from nltk.corpus import stopwords\n",
    "from nltk.stem import WordNetLemmatizer\n",
    "stop_words = stopwords.words('english')\n",
    "lemmatizer = WordNetLemmatizer()\n",
    "\n",
    "def process_text(text):\n",
    "    text = unicodedata.normalize('NFKD', text).encode('ascii', 'ignore').decode('utf-8', 'ignore')\n",
    "    text = re.sub(r'[^a-zA-Z\\s]', '', text)\n",
    "    text = text.translate(str.maketrans('', '', string.punctuation))\n",
    "    text = text.lower()\n",
    "    text = \" \".join([word for word in str(text).split() if word not in stop_words])\n",
    "    text = \" \".join([lemmatizer.lemmatize(word) for word in text.split()])\n",
    "    return text\n"
   ]
  },
  {
   "cell_type": "code",
   "execution_count": 133,
   "id": "23eef16c",
   "metadata": {
    "id": "23eef16c",
    "outputId": "69fb5051-b197-4a9b-af59-41058d78c30c"
   },
   "outputs": [
    {
     "name": "stdout",
     "output_type": "stream",
     "text": [
      "['rose', 'red', 'violet', 'blue']\n",
      "  (0, 2)\t1\n",
      "  (1, 1)\t1\n",
      "  (2, 3)\t1\n",
      "  (3, 0)\t1\n"
     ]
    }
   ],
   "source": [
    "from sklearn.feature_extraction.text import CountVectorizer\n",
    "import pandas as pd\n",
    "import nltk\n",
    "document = [\"The\", \"rose\", \"is\", \"red\", \"The\",  \"violet\", \"is\", \"blue\"] #, \"This is some text, just for demonstration\"]\n",
    "\n",
    "processed_document = [process_text(item) for item in document]\n",
    "processed_document = [x for x in processed_document if x != '']\n",
    "print(processed_document)\n",
    "\n",
    "bow_countvect = CountVectorizer(min_df = 0., max_df = 1.)\n",
    "\n",
    "matrix = bow_countvect.fit_transform(processed_document)\n",
    "matrix.toarray()\n",
    "vocabulary = bow_countvect.get_feature_names_out()\n",
    "print(matrix)"
   ]
  },
  {
   "cell_type": "markdown",
   "id": "c4a3fa24",
   "metadata": {
    "id": "c4a3fa24"
   },
   "source": [
    "#### Sparse matrix format\n",
    "\n",
    "<img src = 'compressedsparserowformat.png'>\n",
    "<center>Source: https://phys.libretexts.org/Bookshelves/Mathematical_Physics_and_Pedagogy/Computational_Physics_(Chong)/08%3A_Sparse_Matrices/8.02%3A_Sparse_Matrix_Formats</center>"
   ]
  },
  {
   "cell_type": "code",
   "execution_count": 134,
   "id": "50376256",
   "metadata": {
    "id": "50376256",
    "outputId": "5470b131-4c1f-41da-b78a-fb808538525b"
   },
   "outputs": [
    {
     "data": {
      "text/plain": [
       "array(['blue', 'red', 'rose', 'violet'], dtype=object)"
      ]
     },
     "execution_count": 134,
     "metadata": {},
     "output_type": "execute_result"
    }
   ],
   "source": [
    "vocabulary"
   ]
  },
  {
   "cell_type": "code",
   "execution_count": 135,
   "id": "e3bfbdff",
   "metadata": {
    "id": "e3bfbdff",
    "outputId": "2bb04854-1c8f-4050-83dd-31838acf763c"
   },
   "outputs": [
    {
     "data": {
      "text/plain": [
       "matrix([[0, 0, 1, 0],\n",
       "        [0, 1, 0, 0],\n",
       "        [0, 0, 0, 1],\n",
       "        [1, 0, 0, 0]], dtype=int64)"
      ]
     },
     "execution_count": 135,
     "metadata": {},
     "output_type": "execute_result"
    }
   ],
   "source": [
    "matrix.todense()"
   ]
  },
  {
   "cell_type": "markdown",
   "id": "3530414c",
   "metadata": {
    "id": "3530414c"
   },
   "source": [
    "#### Bag of words representation: n-grams\n",
    "Simpe Bag-of-words model does not store the information about the order of words.  The n-gram model can store this spatial information. \n",
    "\n",
    "A word/token is known as a 'gram'. An n-gram is a contiguous group of n-tokens that appear in a text document.  \n",
    "A unigram means 1 word, bigrams means two words, a trigram refers to a group of 3 words...\n",
    "\n",
    "For the documents in example above, a bigram model will parse the text into the following units and store the term frequency of each unit as in simple BoW model. \n",
    "\n",
    "[ \"John likes\", \"likes to\", \"to watch\", \"watch movies\", \"Mary likes\", \"likes movies\", \"movies too\",]\n",
    "\n",
    "Bag-of-word model can be thought of as a special case of the n-gram model, with n=1. "
   ]
  },
  {
   "cell_type": "code",
   "execution_count": 136,
   "id": "81b2efc4",
   "metadata": {
    "id": "81b2efc4",
    "outputId": "7fa5494c-d01e-4724-ce43-467dcda5b0b4"
   },
   "outputs": [
    {
     "data": {
      "text/plain": [
       "<3x4 sparse matrix of type '<class 'numpy.int64'>'\n",
       "\twith 4 stored elements in Compressed Sparse Row format>"
      ]
     },
     "execution_count": 136,
     "metadata": {},
     "output_type": "execute_result"
    }
   ],
   "source": [
    "from sklearn.feature_extraction.text import CountVectorizer\n",
    "\n",
    "document = [\"The rose is red.\", \"The violet is blue.\", \"This is some text, just for demonstration\"]\n",
    "ngram_countvect = CountVectorizer(ngram_range = (2, 2), stop_words = 'english')\n",
    "\n",
    "matrix = ngram_countvect.fit_transform(document)\n",
    "vocabulary = ngram_countvect.get_feature_names_out()\n",
    "matrix"
   ]
  },
  {
   "cell_type": "code",
   "execution_count": 137,
   "id": "d55465a9",
   "metadata": {
    "id": "d55465a9",
    "outputId": "fb283a8e-ae7b-421d-e230-91084d35149f"
   },
   "outputs": [
    {
     "data": {
      "text/plain": [
       "array(['just demonstration', 'rose red', 'text just', 'violet blue'],\n",
       "      dtype=object)"
      ]
     },
     "execution_count": 137,
     "metadata": {},
     "output_type": "execute_result"
    }
   ],
   "source": [
    "vocabulary"
   ]
  },
  {
   "cell_type": "code",
   "execution_count": 138,
   "id": "56d3f038",
   "metadata": {
    "id": "56d3f038",
    "outputId": "7c982169-ad0f-4326-d17f-d44ff7154423"
   },
   "outputs": [
    {
     "data": {
      "text/plain": [
       "matrix([[0, 1, 0, 0],\n",
       "        [0, 0, 0, 1],\n",
       "        [1, 0, 1, 0]], dtype=int64)"
      ]
     },
     "execution_count": 138,
     "metadata": {},
     "output_type": "execute_result"
    }
   ],
   "source": [
    "matrix.todense()"
   ]
  },
  {
   "cell_type": "markdown",
   "id": "e52b5f36",
   "metadata": {
    "id": "e52b5f36"
   },
   "source": [
    "### Tf-Idf Vectorizer : Term Frequency - Inverse Document Frequency \n",
    "https://monkeylearn.com/blog/what-is-tf-idf/\n",
    "\n",
    "- The Tf-Idf score, tfidf(w,D) of a term/word 'w' in a document 'd', is a product of two metrics - term frequency (tf) and inverse document frequency (idf). i.e.,\n",
    "\n",
    "$$ tf-idf(w, d, C) = tf(w,d)*idf(w,C) $$\n",
    "\n",
    "- Where w is the term or word, d is the document, C is corpus containing a total of N documents including document d. \n",
    "\n",
    "- Term frequency, tf(w,d), is the frequency of word w in document d. Term frequency may be adjusted for the length of the document (raw count of occurences divided by number of words in the document), it may be Logarithmically scaled frequency (e.g. log(1 + raw count)), or it may be Boolean frequency (e.g. 1 if the term occurs, or 0 if the term does not occur, in the document).\n",
    "\n",
    "- The inverse document frequency of a word is calculated across a set of documents (a corpus).Document Frequency: Is the frequency of occurence of a term/word w in a set of N documents (a corpus).\n",
    "\n",
    "\n",
    "- Inverse Document Frequency is a measure of how common or rare a word is in the corpus. Less is the IDF, more common is the word and vice versa. IDF of a word is calculated by taking the log of the total number of documents in corpus divided by the number of documents that contain a word. \n",
    "\n",
    "\n",
    "- Inverse Document Frequency of a term/word w, in a total of N documents in corpus (C) is defined as :\n",
    "\n",
    "$$  ifd(w, d, C) = log\\frac{N}{(count(d \\in C, w \\in d))}$$\n",
    "\n",
    "\n",
    "\n",
    "The denominator is simply the number of documents in which the term, t, appears in. \n",
    "Inverse document frequency is a measure of informativeness of a term/word. Frequently occuring words are less informative. "
   ]
  },
  {
   "cell_type": "code",
   "execution_count": 149,
   "id": "f5dcdd65",
   "metadata": {
    "id": "f5dcdd65",
    "outputId": "0e9dc713-3a2c-4812-f7fb-9f5d8f6d9ced"
   },
   "outputs": [
    {
     "data": {
      "text/plain": [
       "array([[0.        , 0.        , 0.        , 0.34520502, 0.        ,\n",
       "        0.5844829 , 0.5844829 , 0.        , 0.        , 0.44451431,\n",
       "        0.        , 0.        ],\n",
       "       [0.5844829 , 0.        , 0.        , 0.34520502, 0.        ,\n",
       "        0.        , 0.        , 0.        , 0.        , 0.44451431,\n",
       "        0.        , 0.5844829 ],\n",
       "       [0.        , 0.39687454, 0.39687454, 0.2344005 , 0.39687454,\n",
       "        0.        , 0.        , 0.39687454, 0.39687454, 0.        ,\n",
       "        0.39687454, 0.        ]])"
      ]
     },
     "execution_count": 149,
     "metadata": {},
     "output_type": "execute_result"
    }
   ],
   "source": [
    "from sklearn.feature_extraction.text import TfidfVectorizer\n",
    "\n",
    "document = [\"The rose is red.\", \"The violet is blue.\", \"This is some text, just for demonstration\"]\n",
    "\n",
    "tf_idf = TfidfVectorizer(min_df = 0., max_df = 1., use_idf = True)\n",
    "tf_idf_matrix = tf_idf.fit_transform(document)\n",
    "tf_idf_matrix = tf_idf_matrix.toarray()\n",
    "tf_idf_matrix"
   ]
  },
  {
   "cell_type": "markdown",
   "id": "746050cb",
   "metadata": {
    "id": "746050cb"
   },
   "source": [
    "#### Word Embeddings\n",
    "\n",
    "Above methods of text representation often do not capture the semantics and context of the words. \n",
    "To overcome these limitations we use Embeddings. The embeddings are learnt by training a model of huge datasets. These embeddings capture the context of a word by taking account of neighbourning words in the sentence and the order of the words in the sentence. Three prominent Word Embeddings are:\n",
    "\n",
    "1. Word2Vec\n",
    "2. GloVe\n",
    "3. FastText"
   ]
  },
  {
   "cell_type": "markdown",
   "id": "sCls7-ByBf1N",
   "metadata": {
    "id": "sCls7-ByBf1N"
   },
   "source": [
    "### Word2Vec\n",
    "- Is an unsupervised model trained on huge text corpora. It creates a vocabulary of words and  a distributed and continuous \n",
    "dense vector representations of words in the vector space representing the vocabulary. It captures contextual and semantic similarity. \n",
    "\n",
    "- We can specify the size of the word embedding vectors. The total number of vectors are essentially the size of the vocabulary. \n",
    "- There are two different model architecture types in Word2Vec - CBOW (Continuous Bag of Words) Model, Skip Gram Model\n",
    "\n",
    "CBOW Model - This architecture tries to predict the current target word based on the source context words.\n",
    "For example, let us take the sentence “The sky is blue and beautiful.” The context word can be [sky] and the target word can be [blue]. \n",
    "Here we can alter the window size of context words.\n",
    "We can have multiple context words matching to a single word. For example, [blue, beautiful] are context words and the target word is [sky]. In this configuration, the window size is 2.\n",
    "\n",
    "Skip Gram Model: This architecture tries to predict the source context words given a target word.\n",
    "\n",
    "For example, for the same sentence used in the CBOW model, given a target word [blue], it will try to predict the context word [sky].\n",
    "\n"
   ]
  },
  {
   "cell_type": "code",
   "execution_count": 152,
   "id": "9559c665",
   "metadata": {
    "colab": {
     "base_uri": "https://localhost:8080/"
    },
    "id": "9559c665",
    "outputId": "167e2183-f33f-4fee-9e62-c93ec94e9148"
   },
   "outputs": [],
   "source": [
    "from gensim.models import word2vec\n",
    "import nltk\n",
    "document = [\"The rose is red.\", \"The violet is blue.\", \"This is some text, just for demonstration\"]\n",
    "\n",
    "tokenized_corpus = [nltk.word_tokenize(doc) for doc in document]\n",
    "\n",
    "#parameters of word2vec model\n",
    "# feature_size : integer   :  Word vector dimensionality\n",
    "# window_context : integer :  The maximum distance between the current and predicted word within a sentence.(2, 10)\n",
    "# min_word_count : integer : Ignores all words with total absolute frequency lower than this - (2, 100)\n",
    "# sample : integer  : The threshold for configuring which higher-frequency words are randomly downsampled. Highly influencial. - (0, 1e-5)\n",
    "# sg: integer: Skip-gram model configuration, CBOW by default\n",
    "\n",
    "wordtovector = word2vec.Word2Vec(tokenized_corpus,  window = 3, min_count = 1, sg = 1)\n"
   ]
  },
  {
   "cell_type": "code",
   "execution_count": 153,
   "id": "f63f8181",
   "metadata": {
    "colab": {
     "base_uri": "https://localhost:8080/"
    },
    "id": "f63f8181",
    "outputId": "dd8e9716-09b3-400d-be52-a34730009a42"
   },
   "outputs": [
    {
     "name": "stdout",
     "output_type": "stream",
     "text": [
      "Embedding of the word blue\n",
      "[ 0.00708823 -0.00156761  0.00794851 -0.00948855 -0.00802912 -0.00664142\n",
      " -0.00400355  0.00499016 -0.00381408 -0.00832104  0.00841219 -0.00374813\n",
      "  0.00860855 -0.00489524  0.00391918  0.00492308  0.00239349 -0.00281813\n",
      "  0.00284886 -0.00825675 -0.00276543 -0.0025918   0.00725033 -0.00346468\n",
      " -0.00659932  0.00434099 -0.00047506 -0.00359727  0.00688266  0.00387326\n",
      " -0.00389932  0.00077145  0.00914394  0.00775445  0.00636264  0.00466787\n",
      "  0.00238538 -0.00184105 -0.00637059 -0.0003008  -0.0015646  -0.00057309\n",
      " -0.00626423  0.00743442 -0.0065922  -0.0072388  -0.00275664 -0.00151565\n",
      " -0.00763597  0.00069848 -0.00532554 -0.00127666 -0.00736554  0.00196106\n",
      "  0.00327327 -0.00002221 -0.00544766 -0.00172546  0.00708523  0.00373731\n",
      " -0.00888248 -0.00341338  0.00235372  0.00213757 -0.00946413  0.00457201\n",
      " -0.00865661 -0.00738811  0.00348412 -0.00347042  0.00356426  0.00889361\n",
      " -0.00357392  0.00932165  0.00171104  0.00984757  0.00570457 -0.00915026\n",
      " -0.00332735  0.00653013  0.00560205  0.00870642  0.00692702  0.00803862\n",
      " -0.00982342  0.00429883 -0.00503035  0.00351149  0.00605732  0.00439185\n",
      "  0.00751289  0.00149762 -0.00126477  0.00576785 -0.00564018  0.00003889\n",
      "  0.0094577  -0.00548181  0.00381344 -0.00811297]\n",
      "Size of Embedding of the word blue\n",
      "(100,)\n"
     ]
    }
   ],
   "source": [
    "print('Embedding of the word blue')\n",
    "print(wordtovector.wv['blue'])\n",
    "\n",
    "print('Size of Embedding of the word blue')\n",
    "print(wordtovector.wv['blue'].shape)"
   ]
  },
  {
   "cell_type": "code",
   "execution_count": 175,
   "id": "64ffc43b",
   "metadata": {},
   "outputs": [
    {
     "data": {
      "text/plain": [
       "array([[-0.00053638,  0.00023663,  0.00510469, ..., -0.00704247,\n",
       "         0.00090095,  0.00639236],\n",
       "       [-0.00861969,  0.00366574,  0.00518988, ..., -0.00239151,\n",
       "        -0.0095101 ,  0.00450588],\n",
       "       [ 0.00009456,  0.00307732, -0.00681265, ...,  0.00051259,\n",
       "         0.00821308, -0.00701904],\n",
       "       ...,\n",
       "       [ 0.00977029,  0.00816511,  0.00128097, ..., -0.00297274,\n",
       "        -0.0049319 , -0.00231511],\n",
       "       [-0.00194422, -0.00526752,  0.00944711, ...,  0.00598271,\n",
       "         0.00681536,  0.00782254],\n",
       "       [-0.00950012,  0.00956222, -0.00777076, ..., -0.00313511,\n",
       "        -0.00633882,  0.00987008]], dtype=float32)"
      ]
     },
     "execution_count": 175,
     "metadata": {},
     "output_type": "execute_result"
    }
   ],
   "source": [
    "words = wordtovector.wv.index_to_key\n",
    "wvs = wordtovector.wv[words]\n",
    "wvs"
   ]
  },
  {
   "cell_type": "code",
   "execution_count": 159,
   "id": "d9943073",
   "metadata": {
    "colab": {
     "base_uri": "https://localhost:8080/",
     "height": 582
    },
    "id": "d9943073",
    "outputId": "d464b12e-722a-4d1d-e3af-f0cb986cbc71"
   },
   "outputs": [
    {
     "data": {
      "text/html": [
       "<div>\n",
       "<style scoped>\n",
       "    .dataframe tbody tr th:only-of-type {\n",
       "        vertical-align: middle;\n",
       "    }\n",
       "\n",
       "    .dataframe tbody tr th {\n",
       "        vertical-align: top;\n",
       "    }\n",
       "\n",
       "    .dataframe thead th {\n",
       "        text-align: right;\n",
       "    }\n",
       "</style>\n",
       "<table border=\"1\" class=\"dataframe\">\n",
       "  <thead>\n",
       "    <tr style=\"text-align: right;\">\n",
       "      <th></th>\n",
       "      <th>0</th>\n",
       "      <th>1</th>\n",
       "      <th>2</th>\n",
       "      <th>3</th>\n",
       "      <th>4</th>\n",
       "      <th>5</th>\n",
       "      <th>6</th>\n",
       "      <th>7</th>\n",
       "      <th>8</th>\n",
       "      <th>9</th>\n",
       "      <th>...</th>\n",
       "      <th>90</th>\n",
       "      <th>91</th>\n",
       "      <th>92</th>\n",
       "      <th>93</th>\n",
       "      <th>94</th>\n",
       "      <th>95</th>\n",
       "      <th>96</th>\n",
       "      <th>97</th>\n",
       "      <th>98</th>\n",
       "      <th>99</th>\n",
       "    </tr>\n",
       "  </thead>\n",
       "  <tbody>\n",
       "    <tr>\n",
       "      <th>is</th>\n",
       "      <td>-0.000536</td>\n",
       "      <td>0.000237</td>\n",
       "      <td>0.005105</td>\n",
       "      <td>0.009009</td>\n",
       "      <td>-0.009303</td>\n",
       "      <td>-0.007118</td>\n",
       "      <td>0.006459</td>\n",
       "      <td>0.008974</td>\n",
       "      <td>-0.005016</td>\n",
       "      <td>-0.003765</td>\n",
       "      <td>...</td>\n",
       "      <td>0.001632</td>\n",
       "      <td>0.000190</td>\n",
       "      <td>0.003474</td>\n",
       "      <td>0.000218</td>\n",
       "      <td>0.009618</td>\n",
       "      <td>0.005061</td>\n",
       "      <td>-0.008916</td>\n",
       "      <td>-0.007042</td>\n",
       "      <td>0.000901</td>\n",
       "      <td>0.006392</td>\n",
       "    </tr>\n",
       "    <tr>\n",
       "      <th>.</th>\n",
       "      <td>-0.008620</td>\n",
       "      <td>0.003666</td>\n",
       "      <td>0.005190</td>\n",
       "      <td>0.005742</td>\n",
       "      <td>0.007467</td>\n",
       "      <td>-0.006168</td>\n",
       "      <td>0.001106</td>\n",
       "      <td>0.006047</td>\n",
       "      <td>-0.002840</td>\n",
       "      <td>-0.006174</td>\n",
       "      <td>...</td>\n",
       "      <td>0.001088</td>\n",
       "      <td>-0.001576</td>\n",
       "      <td>0.002197</td>\n",
       "      <td>-0.007882</td>\n",
       "      <td>-0.002717</td>\n",
       "      <td>0.002663</td>\n",
       "      <td>0.005347</td>\n",
       "      <td>-0.002392</td>\n",
       "      <td>-0.009510</td>\n",
       "      <td>0.004506</td>\n",
       "    </tr>\n",
       "    <tr>\n",
       "      <th>The</th>\n",
       "      <td>0.000095</td>\n",
       "      <td>0.003077</td>\n",
       "      <td>-0.006813</td>\n",
       "      <td>-0.001375</td>\n",
       "      <td>0.007669</td>\n",
       "      <td>0.007346</td>\n",
       "      <td>-0.003673</td>\n",
       "      <td>0.002643</td>\n",
       "      <td>-0.008317</td>\n",
       "      <td>0.006205</td>\n",
       "      <td>...</td>\n",
       "      <td>-0.004509</td>\n",
       "      <td>0.005702</td>\n",
       "      <td>0.009180</td>\n",
       "      <td>-0.004100</td>\n",
       "      <td>0.007965</td>\n",
       "      <td>0.005375</td>\n",
       "      <td>0.005879</td>\n",
       "      <td>0.000513</td>\n",
       "      <td>0.008213</td>\n",
       "      <td>-0.007019</td>\n",
       "    </tr>\n",
       "    <tr>\n",
       "      <th>demonstration</th>\n",
       "      <td>-0.008243</td>\n",
       "      <td>0.009299</td>\n",
       "      <td>-0.000198</td>\n",
       "      <td>-0.001967</td>\n",
       "      <td>0.004604</td>\n",
       "      <td>-0.004095</td>\n",
       "      <td>0.002743</td>\n",
       "      <td>0.006940</td>\n",
       "      <td>0.006065</td>\n",
       "      <td>-0.007511</td>\n",
       "      <td>...</td>\n",
       "      <td>-0.007426</td>\n",
       "      <td>-0.001064</td>\n",
       "      <td>-0.000795</td>\n",
       "      <td>-0.002563</td>\n",
       "      <td>0.009683</td>\n",
       "      <td>-0.000459</td>\n",
       "      <td>0.005874</td>\n",
       "      <td>-0.007448</td>\n",
       "      <td>-0.002506</td>\n",
       "      <td>-0.005550</td>\n",
       "    </tr>\n",
       "    <tr>\n",
       "      <th>for</th>\n",
       "      <td>-0.007139</td>\n",
       "      <td>0.001241</td>\n",
       "      <td>-0.007177</td>\n",
       "      <td>-0.002245</td>\n",
       "      <td>0.003719</td>\n",
       "      <td>0.005833</td>\n",
       "      <td>0.001198</td>\n",
       "      <td>0.002103</td>\n",
       "      <td>-0.004110</td>\n",
       "      <td>0.007225</td>\n",
       "      <td>...</td>\n",
       "      <td>0.003137</td>\n",
       "      <td>-0.004713</td>\n",
       "      <td>0.005281</td>\n",
       "      <td>-0.004233</td>\n",
       "      <td>0.002642</td>\n",
       "      <td>-0.008046</td>\n",
       "      <td>0.006210</td>\n",
       "      <td>0.004819</td>\n",
       "      <td>0.000787</td>\n",
       "      <td>0.003013</td>\n",
       "    </tr>\n",
       "    <tr>\n",
       "      <th>just</th>\n",
       "      <td>-0.008727</td>\n",
       "      <td>0.002130</td>\n",
       "      <td>-0.000874</td>\n",
       "      <td>-0.009319</td>\n",
       "      <td>-0.009428</td>\n",
       "      <td>-0.001411</td>\n",
       "      <td>0.004432</td>\n",
       "      <td>0.003704</td>\n",
       "      <td>-0.006499</td>\n",
       "      <td>-0.006873</td>\n",
       "      <td>...</td>\n",
       "      <td>0.009071</td>\n",
       "      <td>0.008938</td>\n",
       "      <td>-0.008208</td>\n",
       "      <td>-0.003012</td>\n",
       "      <td>0.009887</td>\n",
       "      <td>0.005104</td>\n",
       "      <td>-0.001588</td>\n",
       "      <td>-0.008692</td>\n",
       "      <td>0.002962</td>\n",
       "      <td>-0.006676</td>\n",
       "    </tr>\n",
       "    <tr>\n",
       "      <th>,</th>\n",
       "      <td>0.008132</td>\n",
       "      <td>-0.004457</td>\n",
       "      <td>-0.001068</td>\n",
       "      <td>0.001006</td>\n",
       "      <td>-0.000191</td>\n",
       "      <td>0.001148</td>\n",
       "      <td>0.006114</td>\n",
       "      <td>-0.000020</td>\n",
       "      <td>-0.003246</td>\n",
       "      <td>-0.001511</td>\n",
       "      <td>...</td>\n",
       "      <td>-0.002701</td>\n",
       "      <td>0.000444</td>\n",
       "      <td>-0.003537</td>\n",
       "      <td>-0.000419</td>\n",
       "      <td>-0.000709</td>\n",
       "      <td>0.000823</td>\n",
       "      <td>0.008195</td>\n",
       "      <td>-0.005737</td>\n",
       "      <td>-0.001660</td>\n",
       "      <td>0.005572</td>\n",
       "    </tr>\n",
       "    <tr>\n",
       "      <th>text</th>\n",
       "      <td>0.008168</td>\n",
       "      <td>-0.004443</td>\n",
       "      <td>0.008985</td>\n",
       "      <td>0.008254</td>\n",
       "      <td>-0.004435</td>\n",
       "      <td>0.000303</td>\n",
       "      <td>0.004274</td>\n",
       "      <td>-0.003926</td>\n",
       "      <td>-0.005560</td>\n",
       "      <td>-0.006512</td>\n",
       "      <td>...</td>\n",
       "      <td>0.002058</td>\n",
       "      <td>-0.004004</td>\n",
       "      <td>-0.008241</td>\n",
       "      <td>0.006278</td>\n",
       "      <td>-0.001949</td>\n",
       "      <td>-0.000666</td>\n",
       "      <td>-0.001771</td>\n",
       "      <td>-0.004536</td>\n",
       "      <td>0.004062</td>\n",
       "      <td>-0.004270</td>\n",
       "    </tr>\n",
       "    <tr>\n",
       "      <th>some</th>\n",
       "      <td>-0.009579</td>\n",
       "      <td>0.008943</td>\n",
       "      <td>0.004165</td>\n",
       "      <td>0.009235</td>\n",
       "      <td>0.006644</td>\n",
       "      <td>0.002925</td>\n",
       "      <td>0.009804</td>\n",
       "      <td>-0.004425</td>\n",
       "      <td>-0.006803</td>\n",
       "      <td>0.004227</td>\n",
       "      <td>...</td>\n",
       "      <td>-0.005085</td>\n",
       "      <td>0.001131</td>\n",
       "      <td>0.002883</td>\n",
       "      <td>-0.001536</td>\n",
       "      <td>0.009932</td>\n",
       "      <td>0.008350</td>\n",
       "      <td>0.002416</td>\n",
       "      <td>0.007118</td>\n",
       "      <td>0.005891</td>\n",
       "      <td>-0.005581</td>\n",
       "    </tr>\n",
       "    <tr>\n",
       "      <th>This</th>\n",
       "      <td>-0.005157</td>\n",
       "      <td>-0.006668</td>\n",
       "      <td>-0.007777</td>\n",
       "      <td>0.008311</td>\n",
       "      <td>-0.001982</td>\n",
       "      <td>-0.006855</td>\n",
       "      <td>-0.004154</td>\n",
       "      <td>0.005144</td>\n",
       "      <td>-0.002869</td>\n",
       "      <td>-0.003750</td>\n",
       "      <td>...</td>\n",
       "      <td>-0.008977</td>\n",
       "      <td>0.008592</td>\n",
       "      <td>0.004047</td>\n",
       "      <td>0.007469</td>\n",
       "      <td>0.009746</td>\n",
       "      <td>-0.007290</td>\n",
       "      <td>-0.009040</td>\n",
       "      <td>0.005836</td>\n",
       "      <td>0.009391</td>\n",
       "      <td>0.003507</td>\n",
       "    </tr>\n",
       "    <tr>\n",
       "      <th>blue</th>\n",
       "      <td>0.007088</td>\n",
       "      <td>-0.001568</td>\n",
       "      <td>0.007949</td>\n",
       "      <td>-0.009489</td>\n",
       "      <td>-0.008029</td>\n",
       "      <td>-0.006641</td>\n",
       "      <td>-0.004004</td>\n",
       "      <td>0.004990</td>\n",
       "      <td>-0.003814</td>\n",
       "      <td>-0.008321</td>\n",
       "      <td>...</td>\n",
       "      <td>0.007513</td>\n",
       "      <td>0.001498</td>\n",
       "      <td>-0.001265</td>\n",
       "      <td>0.005768</td>\n",
       "      <td>-0.005640</td>\n",
       "      <td>0.000039</td>\n",
       "      <td>0.009458</td>\n",
       "      <td>-0.005482</td>\n",
       "      <td>0.003813</td>\n",
       "      <td>-0.008113</td>\n",
       "    </tr>\n",
       "    <tr>\n",
       "      <th>violet</th>\n",
       "      <td>0.009770</td>\n",
       "      <td>0.008165</td>\n",
       "      <td>0.001281</td>\n",
       "      <td>0.005098</td>\n",
       "      <td>0.001408</td>\n",
       "      <td>-0.006455</td>\n",
       "      <td>-0.001428</td>\n",
       "      <td>0.006449</td>\n",
       "      <td>-0.004617</td>\n",
       "      <td>-0.003993</td>\n",
       "      <td>...</td>\n",
       "      <td>0.004774</td>\n",
       "      <td>-0.003262</td>\n",
       "      <td>-0.009268</td>\n",
       "      <td>0.003787</td>\n",
       "      <td>0.007161</td>\n",
       "      <td>-0.005633</td>\n",
       "      <td>-0.007865</td>\n",
       "      <td>-0.002973</td>\n",
       "      <td>-0.004932</td>\n",
       "      <td>-0.002315</td>\n",
       "    </tr>\n",
       "    <tr>\n",
       "      <th>red</th>\n",
       "      <td>-0.001944</td>\n",
       "      <td>-0.005268</td>\n",
       "      <td>0.009447</td>\n",
       "      <td>-0.009299</td>\n",
       "      <td>0.004504</td>\n",
       "      <td>0.005404</td>\n",
       "      <td>-0.001409</td>\n",
       "      <td>0.009007</td>\n",
       "      <td>0.009885</td>\n",
       "      <td>-0.005475</td>\n",
       "      <td>...</td>\n",
       "      <td>0.002651</td>\n",
       "      <td>-0.002565</td>\n",
       "      <td>0.006448</td>\n",
       "      <td>-0.007660</td>\n",
       "      <td>0.003394</td>\n",
       "      <td>0.000490</td>\n",
       "      <td>0.008732</td>\n",
       "      <td>0.005983</td>\n",
       "      <td>0.006815</td>\n",
       "      <td>0.007823</td>\n",
       "    </tr>\n",
       "    <tr>\n",
       "      <th>rose</th>\n",
       "      <td>-0.009500</td>\n",
       "      <td>0.009562</td>\n",
       "      <td>-0.007771</td>\n",
       "      <td>-0.002646</td>\n",
       "      <td>-0.004906</td>\n",
       "      <td>-0.004967</td>\n",
       "      <td>-0.008024</td>\n",
       "      <td>-0.007784</td>\n",
       "      <td>-0.004553</td>\n",
       "      <td>-0.001275</td>\n",
       "      <td>...</td>\n",
       "      <td>0.008380</td>\n",
       "      <td>0.007234</td>\n",
       "      <td>0.001730</td>\n",
       "      <td>-0.001347</td>\n",
       "      <td>-0.005890</td>\n",
       "      <td>-0.004533</td>\n",
       "      <td>0.008648</td>\n",
       "      <td>-0.003135</td>\n",
       "      <td>-0.006339</td>\n",
       "      <td>0.009870</td>\n",
       "    </tr>\n",
       "  </tbody>\n",
       "</table>\n",
       "<p>14 rows × 100 columns</p>\n",
       "</div>"
      ],
      "text/plain": [
       "                     0         1         2         3         4         5   \\\n",
       "is            -0.000536  0.000237  0.005105  0.009009 -0.009303 -0.007118   \n",
       ".             -0.008620  0.003666  0.005190  0.005742  0.007467 -0.006168   \n",
       "The            0.000095  0.003077 -0.006813 -0.001375  0.007669  0.007346   \n",
       "demonstration -0.008243  0.009299 -0.000198 -0.001967  0.004604 -0.004095   \n",
       "for           -0.007139  0.001241 -0.007177 -0.002245  0.003719  0.005833   \n",
       "just          -0.008727  0.002130 -0.000874 -0.009319 -0.009428 -0.001411   \n",
       ",              0.008132 -0.004457 -0.001068  0.001006 -0.000191  0.001148   \n",
       "text           0.008168 -0.004443  0.008985  0.008254 -0.004435  0.000303   \n",
       "some          -0.009579  0.008943  0.004165  0.009235  0.006644  0.002925   \n",
       "This          -0.005157 -0.006668 -0.007777  0.008311 -0.001982 -0.006855   \n",
       "blue           0.007088 -0.001568  0.007949 -0.009489 -0.008029 -0.006641   \n",
       "violet         0.009770  0.008165  0.001281  0.005098  0.001408 -0.006455   \n",
       "red           -0.001944 -0.005268  0.009447 -0.009299  0.004504  0.005404   \n",
       "rose          -0.009500  0.009562 -0.007771 -0.002646 -0.004906 -0.004967   \n",
       "\n",
       "                     6         7         8         9   ...        90  \\\n",
       "is             0.006459  0.008974 -0.005016 -0.003765  ...  0.001632   \n",
       ".              0.001106  0.006047 -0.002840 -0.006174  ...  0.001088   \n",
       "The           -0.003673  0.002643 -0.008317  0.006205  ... -0.004509   \n",
       "demonstration  0.002743  0.006940  0.006065 -0.007511  ... -0.007426   \n",
       "for            0.001198  0.002103 -0.004110  0.007225  ...  0.003137   \n",
       "just           0.004432  0.003704 -0.006499 -0.006873  ...  0.009071   \n",
       ",              0.006114 -0.000020 -0.003246 -0.001511  ... -0.002701   \n",
       "text           0.004274 -0.003926 -0.005560 -0.006512  ...  0.002058   \n",
       "some           0.009804 -0.004425 -0.006803  0.004227  ... -0.005085   \n",
       "This          -0.004154  0.005144 -0.002869 -0.003750  ... -0.008977   \n",
       "blue          -0.004004  0.004990 -0.003814 -0.008321  ...  0.007513   \n",
       "violet        -0.001428  0.006449 -0.004617 -0.003993  ...  0.004774   \n",
       "red           -0.001409  0.009007  0.009885 -0.005475  ...  0.002651   \n",
       "rose          -0.008024 -0.007784 -0.004553 -0.001275  ...  0.008380   \n",
       "\n",
       "                     91        92        93        94        95        96  \\\n",
       "is             0.000190  0.003474  0.000218  0.009618  0.005061 -0.008916   \n",
       ".             -0.001576  0.002197 -0.007882 -0.002717  0.002663  0.005347   \n",
       "The            0.005702  0.009180 -0.004100  0.007965  0.005375  0.005879   \n",
       "demonstration -0.001064 -0.000795 -0.002563  0.009683 -0.000459  0.005874   \n",
       "for           -0.004713  0.005281 -0.004233  0.002642 -0.008046  0.006210   \n",
       "just           0.008938 -0.008208 -0.003012  0.009887  0.005104 -0.001588   \n",
       ",              0.000444 -0.003537 -0.000419 -0.000709  0.000823  0.008195   \n",
       "text          -0.004004 -0.008241  0.006278 -0.001949 -0.000666 -0.001771   \n",
       "some           0.001131  0.002883 -0.001536  0.009932  0.008350  0.002416   \n",
       "This           0.008592  0.004047  0.007469  0.009746 -0.007290 -0.009040   \n",
       "blue           0.001498 -0.001265  0.005768 -0.005640  0.000039  0.009458   \n",
       "violet        -0.003262 -0.009268  0.003787  0.007161 -0.005633 -0.007865   \n",
       "red           -0.002565  0.006448 -0.007660  0.003394  0.000490  0.008732   \n",
       "rose           0.007234  0.001730 -0.001347 -0.005890 -0.004533  0.008648   \n",
       "\n",
       "                     97        98        99  \n",
       "is            -0.007042  0.000901  0.006392  \n",
       ".             -0.002392 -0.009510  0.004506  \n",
       "The            0.000513  0.008213 -0.007019  \n",
       "demonstration -0.007448 -0.002506 -0.005550  \n",
       "for            0.004819  0.000787  0.003013  \n",
       "just          -0.008692  0.002962 -0.006676  \n",
       ",             -0.005737 -0.001660  0.005572  \n",
       "text          -0.004536  0.004062 -0.004270  \n",
       "some           0.007118  0.005891 -0.005581  \n",
       "This           0.005836  0.009391  0.003507  \n",
       "blue          -0.005482  0.003813 -0.008113  \n",
       "violet        -0.002973 -0.004932 -0.002315  \n",
       "red            0.005983  0.006815  0.007823  \n",
       "rose          -0.003135 -0.006339  0.009870  \n",
       "\n",
       "[14 rows x 100 columns]"
      ]
     },
     "execution_count": 159,
     "metadata": {},
     "output_type": "execute_result"
    }
   ],
   "source": [
    "import pandas as pd\n",
    "df = pd.DataFrame(wvs, index = words)\n",
    "df"
   ]
  },
  {
   "cell_type": "code",
   "execution_count": 160,
   "id": "b901ac51",
   "metadata": {
    "colab": {
     "base_uri": "https://localhost:8080/",
     "height": 532
    },
    "id": "b901ac51",
    "outputId": "2c06c8b5-6b66-461b-c57b-9afe3bd3de76"
   },
   "outputs": [
    {
     "data": {
      "text/html": [
       "<div>\n",
       "<style scoped>\n",
       "    .dataframe tbody tr th:only-of-type {\n",
       "        vertical-align: middle;\n",
       "    }\n",
       "\n",
       "    .dataframe tbody tr th {\n",
       "        vertical-align: top;\n",
       "    }\n",
       "\n",
       "    .dataframe thead th {\n",
       "        text-align: right;\n",
       "    }\n",
       "</style>\n",
       "<table border=\"1\" class=\"dataframe\">\n",
       "  <thead>\n",
       "    <tr style=\"text-align: right;\">\n",
       "      <th></th>\n",
       "      <th>is</th>\n",
       "      <th>.</th>\n",
       "      <th>The</th>\n",
       "      <th>demonstration</th>\n",
       "      <th>for</th>\n",
       "      <th>just</th>\n",
       "      <th>,</th>\n",
       "      <th>text</th>\n",
       "      <th>some</th>\n",
       "      <th>This</th>\n",
       "      <th>blue</th>\n",
       "      <th>violet</th>\n",
       "      <th>red</th>\n",
       "      <th>rose</th>\n",
       "    </tr>\n",
       "  </thead>\n",
       "  <tbody>\n",
       "    <tr>\n",
       "      <th>is</th>\n",
       "      <td>1.000000</td>\n",
       "      <td>-0.010757</td>\n",
       "      <td>-0.052358</td>\n",
       "      <td>-0.111662</td>\n",
       "      <td>-0.027774</td>\n",
       "      <td>-0.059873</td>\n",
       "      <td>0.016129</td>\n",
       "      <td>0.092916</td>\n",
       "      <td>0.027063</td>\n",
       "      <td>0.216162</td>\n",
       "      <td>0.062931</td>\n",
       "      <td>0.079646</td>\n",
       "      <td>0.093112</td>\n",
       "      <td>-0.041240</td>\n",
       "    </tr>\n",
       "    <tr>\n",
       "      <th>.</th>\n",
       "      <td>-0.010757</td>\n",
       "      <td>1.000000</td>\n",
       "      <td>-0.023672</td>\n",
       "      <td>0.067976</td>\n",
       "      <td>0.004503</td>\n",
       "      <td>0.009391</td>\n",
       "      <td>-0.114107</td>\n",
       "      <td>-0.115555</td>\n",
       "      <td>0.033641</td>\n",
       "      <td>-0.095716</td>\n",
       "      <td>-0.134190</td>\n",
       "      <td>0.008316</td>\n",
       "      <td>-0.003644</td>\n",
       "      <td>0.137253</td>\n",
       "    </tr>\n",
       "    <tr>\n",
       "      <th>The</th>\n",
       "      <td>-0.052358</td>\n",
       "      <td>-0.023672</td>\n",
       "      <td>1.000000</td>\n",
       "      <td>-0.013515</td>\n",
       "      <td>0.170189</td>\n",
       "      <td>0.064090</td>\n",
       "      <td>0.145951</td>\n",
       "      <td>-0.002754</td>\n",
       "      <td>0.199121</td>\n",
       "      <td>-0.032844</td>\n",
       "      <td>-0.101988</td>\n",
       "      <td>0.172728</td>\n",
       "      <td>0.046526</td>\n",
       "      <td>-0.135392</td>\n",
       "    </tr>\n",
       "    <tr>\n",
       "      <th>demonstration</th>\n",
       "      <td>-0.111662</td>\n",
       "      <td>0.067976</td>\n",
       "      <td>-0.013515</td>\n",
       "      <td>1.000000</td>\n",
       "      <td>-0.044617</td>\n",
       "      <td>0.131490</td>\n",
       "      <td>0.041577</td>\n",
       "      <td>-0.013680</td>\n",
       "      <td>0.074976</td>\n",
       "      <td>-0.169368</td>\n",
       "      <td>0.012988</td>\n",
       "      <td>0.041308</td>\n",
       "      <td>-0.009253</td>\n",
       "      <td>0.006598</td>\n",
       "    </tr>\n",
       "    <tr>\n",
       "      <th>for</th>\n",
       "      <td>-0.027774</td>\n",
       "      <td>0.004503</td>\n",
       "      <td>0.170189</td>\n",
       "      <td>-0.044617</td>\n",
       "      <td>1.000000</td>\n",
       "      <td>0.138880</td>\n",
       "      <td>0.034765</td>\n",
       "      <td>-0.028491</td>\n",
       "      <td>-0.069003</td>\n",
       "      <td>-0.173234</td>\n",
       "      <td>-0.258891</td>\n",
       "      <td>-0.005897</td>\n",
       "      <td>0.150165</td>\n",
       "      <td>0.252905</td>\n",
       "    </tr>\n",
       "    <tr>\n",
       "      <th>just</th>\n",
       "      <td>-0.059873</td>\n",
       "      <td>0.009391</td>\n",
       "      <td>0.064090</td>\n",
       "      <td>0.131490</td>\n",
       "      <td>0.138880</td>\n",
       "      <td>1.000000</td>\n",
       "      <td>0.019152</td>\n",
       "      <td>-0.057746</td>\n",
       "      <td>0.060592</td>\n",
       "      <td>-0.105138</td>\n",
       "      <td>0.020002</td>\n",
       "      <td>0.166947</td>\n",
       "      <td>-0.145108</td>\n",
       "      <td>0.044107</td>\n",
       "    </tr>\n",
       "    <tr>\n",
       "      <th>,</th>\n",
       "      <td>0.016129</td>\n",
       "      <td>-0.114107</td>\n",
       "      <td>0.145951</td>\n",
       "      <td>0.041577</td>\n",
       "      <td>0.034765</td>\n",
       "      <td>0.019152</td>\n",
       "      <td>1.000000</td>\n",
       "      <td>0.004843</td>\n",
       "      <td>0.008826</td>\n",
       "      <td>0.001947</td>\n",
       "      <td>0.050470</td>\n",
       "      <td>-0.083826</td>\n",
       "      <td>0.000731</td>\n",
       "      <td>0.012812</td>\n",
       "    </tr>\n",
       "    <tr>\n",
       "      <th>text</th>\n",
       "      <td>0.092916</td>\n",
       "      <td>-0.115555</td>\n",
       "      <td>-0.002754</td>\n",
       "      <td>-0.013680</td>\n",
       "      <td>-0.028491</td>\n",
       "      <td>-0.057746</td>\n",
       "      <td>0.004843</td>\n",
       "      <td>1.000000</td>\n",
       "      <td>-0.144546</td>\n",
       "      <td>-0.093274</td>\n",
       "      <td>0.108879</td>\n",
       "      <td>0.111180</td>\n",
       "      <td>-0.040905</td>\n",
       "      <td>-0.025461</td>\n",
       "    </tr>\n",
       "    <tr>\n",
       "      <th>some</th>\n",
       "      <td>0.027063</td>\n",
       "      <td>0.033641</td>\n",
       "      <td>0.199121</td>\n",
       "      <td>0.074976</td>\n",
       "      <td>-0.069003</td>\n",
       "      <td>0.060592</td>\n",
       "      <td>0.008826</td>\n",
       "      <td>-0.144546</td>\n",
       "      <td>1.000000</td>\n",
       "      <td>0.044691</td>\n",
       "      <td>0.026811</td>\n",
       "      <td>0.037713</td>\n",
       "      <td>-0.040441</td>\n",
       "      <td>-0.122462</td>\n",
       "    </tr>\n",
       "    <tr>\n",
       "      <th>This</th>\n",
       "      <td>0.216162</td>\n",
       "      <td>-0.095716</td>\n",
       "      <td>-0.032844</td>\n",
       "      <td>-0.169368</td>\n",
       "      <td>-0.173234</td>\n",
       "      <td>-0.105138</td>\n",
       "      <td>0.001947</td>\n",
       "      <td>-0.093274</td>\n",
       "      <td>0.044691</td>\n",
       "      <td>1.000000</td>\n",
       "      <td>0.015009</td>\n",
       "      <td>-0.074243</td>\n",
       "      <td>-0.045690</td>\n",
       "      <td>-0.106194</td>\n",
       "    </tr>\n",
       "    <tr>\n",
       "      <th>blue</th>\n",
       "      <td>0.062931</td>\n",
       "      <td>-0.134190</td>\n",
       "      <td>-0.101988</td>\n",
       "      <td>0.012988</td>\n",
       "      <td>-0.258891</td>\n",
       "      <td>0.020002</td>\n",
       "      <td>0.050470</td>\n",
       "      <td>0.108879</td>\n",
       "      <td>0.026811</td>\n",
       "      <td>0.015009</td>\n",
       "      <td>1.000000</td>\n",
       "      <td>0.109421</td>\n",
       "      <td>0.128136</td>\n",
       "      <td>-0.001182</td>\n",
       "    </tr>\n",
       "    <tr>\n",
       "      <th>violet</th>\n",
       "      <td>0.079646</td>\n",
       "      <td>0.008316</td>\n",
       "      <td>0.172728</td>\n",
       "      <td>0.041308</td>\n",
       "      <td>-0.005897</td>\n",
       "      <td>0.166947</td>\n",
       "      <td>-0.083826</td>\n",
       "      <td>0.111180</td>\n",
       "      <td>0.037713</td>\n",
       "      <td>-0.074243</td>\n",
       "      <td>0.109421</td>\n",
       "      <td>1.000000</td>\n",
       "      <td>-0.030302</td>\n",
       "      <td>-0.162887</td>\n",
       "    </tr>\n",
       "    <tr>\n",
       "      <th>red</th>\n",
       "      <td>0.093112</td>\n",
       "      <td>-0.003644</td>\n",
       "      <td>0.046526</td>\n",
       "      <td>-0.009253</td>\n",
       "      <td>0.150165</td>\n",
       "      <td>-0.145108</td>\n",
       "      <td>0.000731</td>\n",
       "      <td>-0.040905</td>\n",
       "      <td>-0.040441</td>\n",
       "      <td>-0.045690</td>\n",
       "      <td>0.128136</td>\n",
       "      <td>-0.030302</td>\n",
       "      <td>1.000000</td>\n",
       "      <td>-0.076390</td>\n",
       "    </tr>\n",
       "    <tr>\n",
       "      <th>rose</th>\n",
       "      <td>-0.041240</td>\n",
       "      <td>0.137253</td>\n",
       "      <td>-0.135392</td>\n",
       "      <td>0.006598</td>\n",
       "      <td>0.252905</td>\n",
       "      <td>0.044107</td>\n",
       "      <td>0.012812</td>\n",
       "      <td>-0.025461</td>\n",
       "      <td>-0.122462</td>\n",
       "      <td>-0.106194</td>\n",
       "      <td>-0.001182</td>\n",
       "      <td>-0.162887</td>\n",
       "      <td>-0.076390</td>\n",
       "      <td>1.000000</td>\n",
       "    </tr>\n",
       "  </tbody>\n",
       "</table>\n",
       "</div>"
      ],
      "text/plain": [
       "                     is         .       The  demonstration       for  \\\n",
       "is             1.000000 -0.010757 -0.052358      -0.111662 -0.027774   \n",
       ".             -0.010757  1.000000 -0.023672       0.067976  0.004503   \n",
       "The           -0.052358 -0.023672  1.000000      -0.013515  0.170189   \n",
       "demonstration -0.111662  0.067976 -0.013515       1.000000 -0.044617   \n",
       "for           -0.027774  0.004503  0.170189      -0.044617  1.000000   \n",
       "just          -0.059873  0.009391  0.064090       0.131490  0.138880   \n",
       ",              0.016129 -0.114107  0.145951       0.041577  0.034765   \n",
       "text           0.092916 -0.115555 -0.002754      -0.013680 -0.028491   \n",
       "some           0.027063  0.033641  0.199121       0.074976 -0.069003   \n",
       "This           0.216162 -0.095716 -0.032844      -0.169368 -0.173234   \n",
       "blue           0.062931 -0.134190 -0.101988       0.012988 -0.258891   \n",
       "violet         0.079646  0.008316  0.172728       0.041308 -0.005897   \n",
       "red            0.093112 -0.003644  0.046526      -0.009253  0.150165   \n",
       "rose          -0.041240  0.137253 -0.135392       0.006598  0.252905   \n",
       "\n",
       "                   just         ,      text      some      This      blue  \\\n",
       "is            -0.059873  0.016129  0.092916  0.027063  0.216162  0.062931   \n",
       ".              0.009391 -0.114107 -0.115555  0.033641 -0.095716 -0.134190   \n",
       "The            0.064090  0.145951 -0.002754  0.199121 -0.032844 -0.101988   \n",
       "demonstration  0.131490  0.041577 -0.013680  0.074976 -0.169368  0.012988   \n",
       "for            0.138880  0.034765 -0.028491 -0.069003 -0.173234 -0.258891   \n",
       "just           1.000000  0.019152 -0.057746  0.060592 -0.105138  0.020002   \n",
       ",              0.019152  1.000000  0.004843  0.008826  0.001947  0.050470   \n",
       "text          -0.057746  0.004843  1.000000 -0.144546 -0.093274  0.108879   \n",
       "some           0.060592  0.008826 -0.144546  1.000000  0.044691  0.026811   \n",
       "This          -0.105138  0.001947 -0.093274  0.044691  1.000000  0.015009   \n",
       "blue           0.020002  0.050470  0.108879  0.026811  0.015009  1.000000   \n",
       "violet         0.166947 -0.083826  0.111180  0.037713 -0.074243  0.109421   \n",
       "red           -0.145108  0.000731 -0.040905 -0.040441 -0.045690  0.128136   \n",
       "rose           0.044107  0.012812 -0.025461 -0.122462 -0.106194 -0.001182   \n",
       "\n",
       "                 violet       red      rose  \n",
       "is             0.079646  0.093112 -0.041240  \n",
       ".              0.008316 -0.003644  0.137253  \n",
       "The            0.172728  0.046526 -0.135392  \n",
       "demonstration  0.041308 -0.009253  0.006598  \n",
       "for           -0.005897  0.150165  0.252905  \n",
       "just           0.166947 -0.145108  0.044107  \n",
       ",             -0.083826  0.000731  0.012812  \n",
       "text           0.111180 -0.040905 -0.025461  \n",
       "some           0.037713 -0.040441 -0.122462  \n",
       "This          -0.074243 -0.045690 -0.106194  \n",
       "blue           0.109421  0.128136 -0.001182  \n",
       "violet         1.000000 -0.030302 -0.162887  \n",
       "red           -0.030302  1.000000 -0.076390  \n",
       "rose          -0.162887 -0.076390  1.000000  "
      ]
     },
     "execution_count": 160,
     "metadata": {},
     "output_type": "execute_result"
    }
   ],
   "source": [
    "#Similarity Matrix\n",
    "import numpy as np\n",
    "from sklearn.metrics.pairwise import cosine_similarity\n",
    "\n",
    "similarity_matrix = cosine_similarity(df.values)\n",
    "similarity_df = pd.DataFrame(similarity_matrix, index=words, columns=words)\n",
    "similarity_df"
   ]
  },
  {
   "cell_type": "code",
   "execution_count": 169,
   "id": "6e00ecd5",
   "metadata": {
    "colab": {
     "base_uri": "https://localhost:8080/",
     "height": 378
    },
    "id": "6e00ecd5",
    "outputId": "d2a795b0-e2fb-4cdd-e8b4-c5ba307ccbf8"
   },
   "outputs": [
    {
     "data": {
      "image/png": "[encoded data removed]",
      "text/plain": [
       "<Figure size 792x576 with 1 Axes>"
      ]
     },
     "metadata": {
      "needs_background": "light"
     },
     "output_type": "display_data"
    }
   ],
   "source": [
    "#Visualizing the data points and embeddings\n",
    "import warnings\n",
    "warnings.filterwarnings(\"ignore\")\n",
    "\n",
    "import numpy as np\n",
    "import matplotlib.pyplot as plt\n",
    "from sklearn.manifold import TSNE\n",
    "words = w2v_model.wv.index_to_key\n",
    "wvs = w2v_model.wv[words]\n",
    "\n",
    "tsne = TSNE(n_components=2, random_state=42, n_iter=250, perplexity=5)\n",
    "tsne_model = tsne.fit_transform(wvs)\n",
    "labels = words\n",
    "\n",
    "plt.figure(figsize=(11, 8))\n",
    "plt.scatter(tsne_model[:, 0], tsne_model[:, 1])\n",
    "\n",
    "for label, x, y in zip(labels, tsne_model[:, 0], tsne_model[:, 1]):\n",
    "    plt.annotate(label, xy=(x+1, y+1), xytext=(0, 0), textcoords='offset points')"
   ]
  },
  {
   "cell_type": "markdown",
   "id": "aab2b877",
   "metadata": {
    "id": "aab2b877"
   },
   "source": [
    "### GloVe\n",
    "Global Vectors (GloVe) also generates dense word vectors like Word2Vec. \n",
    "It is trained on an aggregated global word-word co-occurrence matrix, giving us a vector space with meaningful sub-structures. \n",
    "\n",
    "GloVe model first creates a huge word-context co-occurrence matrix consisting of (word, context) pairs such that each element in this matrix represents how often a word occurs with the context (which can be a sequence of words). Then matrix factorization can be applied to approximate this matrix.\n",
    "\n",
    "The Spacy library has support for GloVe embeddings. For using English language embeddings we need to download the pipeline \"en_core_web_lg\", the large English language pipeline. We get the standard 300-dimensional GloVe word vectors using SpaCy."
   ]
  },
  {
   "cell_type": "code",
   "execution_count": 8,
   "id": "_hiy0bm4AAYk",
   "metadata": {
    "colab": {
     "base_uri": "https://localhost:8080/"
    },
    "id": "_hiy0bm4AAYk",
    "outputId": "0bf3a5b9-5b32-4877-95e2-498a10db117b"
   },
   "outputs": [
    {
     "name": "stdout",
     "output_type": "stream",
     "text": [
      "Collecting en-core-web-lg==3.5.0\n",
      "  Downloading https://github.com/explosion/spacy-models/releases/download/en_core_web_lg-3.5.0/en_core_web_lg-3.5.0-py3-none-any.whl (587.7 MB)\n",
      "     -------------------------------------- 587.7/587.7 MB 1.9 MB/s eta 0:00:00\n",
      "Requirement already satisfied: spacy<3.6.0,>=3.5.0 in c:\\anaconda3\\lib\\site-packages (from en-core-web-lg==3.5.0) (3.5.0)\n",
      "Requirement already satisfied: typer<0.8.0,>=0.3.0 in c:\\anaconda3\\lib\\site-packages (from spacy<3.6.0,>=3.5.0->en-core-web-lg==3.5.0) (0.7.0)\n",
      "Requirement already satisfied: langcodes<4.0.0,>=3.2.0 in c:\\anaconda3\\lib\\site-packages (from spacy<3.6.0,>=3.5.0->en-core-web-lg==3.5.0) (3.3.0)\n",
      "Requirement already satisfied: spacy-loggers<2.0.0,>=1.0.0 in c:\\anaconda3\\lib\\site-packages (from spacy<3.6.0,>=3.5.0->en-core-web-lg==3.5.0) (1.0.4)\n",
      "Requirement already satisfied: preshed<3.1.0,>=3.0.2 in c:\\anaconda3\\lib\\site-packages (from spacy<3.6.0,>=3.5.0->en-core-web-lg==3.5.0) (3.0.8)\n",
      "Requirement already satisfied: cymem<2.1.0,>=2.0.2 in c:\\anaconda3\\lib\\site-packages (from spacy<3.6.0,>=3.5.0->en-core-web-lg==3.5.0) (2.0.7)\n",
      "Requirement already satisfied: catalogue<2.1.0,>=2.0.6 in c:\\anaconda3\\lib\\site-packages (from spacy<3.6.0,>=3.5.0->en-core-web-lg==3.5.0) (2.0.8)\n",
      "Requirement already satisfied: tqdm<5.0.0,>=4.38.0 in c:\\anaconda3\\lib\\site-packages (from spacy<3.6.0,>=3.5.0->en-core-web-lg==3.5.0) (4.64.0)\n",
      "Requirement already satisfied: pathy>=0.10.0 in c:\\anaconda3\\lib\\site-packages (from spacy<3.6.0,>=3.5.0->en-core-web-lg==3.5.0) (0.10.1)\n",
      "Requirement already satisfied: murmurhash<1.1.0,>=0.28.0 in c:\\anaconda3\\lib\\site-packages (from spacy<3.6.0,>=3.5.0->en-core-web-lg==3.5.0) (1.0.9)\n",
      "Requirement already satisfied: thinc<8.2.0,>=8.1.0 in c:\\anaconda3\\lib\\site-packages (from spacy<3.6.0,>=3.5.0->en-core-web-lg==3.5.0) (8.1.7)\n",
      "Requirement already satisfied: requests<3.0.0,>=2.13.0 in c:\\anaconda3\\lib\\site-packages (from spacy<3.6.0,>=3.5.0->en-core-web-lg==3.5.0) (2.27.1)\n",
      "Requirement already satisfied: packaging>=20.0 in c:\\anaconda3\\lib\\site-packages (from spacy<3.6.0,>=3.5.0->en-core-web-lg==3.5.0) (21.3)\n",
      "Requirement already satisfied: spacy-legacy<3.1.0,>=3.0.11 in c:\\anaconda3\\lib\\site-packages (from spacy<3.6.0,>=3.5.0->en-core-web-lg==3.5.0) (3.0.12)\n",
      "Requirement already satisfied: jinja2 in c:\\anaconda3\\lib\\site-packages (from spacy<3.6.0,>=3.5.0->en-core-web-lg==3.5.0) (2.11.3)\n",
      "Requirement already satisfied: smart-open<7.0.0,>=5.2.1 in c:\\anaconda3\\lib\\site-packages (from spacy<3.6.0,>=3.5.0->en-core-web-lg==3.5.0) (6.3.0)\n",
      "Requirement already satisfied: srsly<3.0.0,>=2.4.3 in c:\\anaconda3\\lib\\site-packages (from spacy<3.6.0,>=3.5.0->en-core-web-lg==3.5.0) (2.4.5)\n",
      "Requirement already satisfied: wasabi<1.2.0,>=0.9.1 in c:\\anaconda3\\lib\\site-packages (from spacy<3.6.0,>=3.5.0->en-core-web-lg==3.5.0) (1.1.1)\n",
      "Requirement already satisfied: pydantic!=1.8,!=1.8.1,<1.11.0,>=1.7.4 in c:\\anaconda3\\lib\\site-packages (from spacy<3.6.0,>=3.5.0->en-core-web-lg==3.5.0) (1.10.4)\n",
      "Requirement already satisfied: setuptools in c:\\anaconda3\\lib\\site-packages (from spacy<3.6.0,>=3.5.0->en-core-web-lg==3.5.0) (52.0.0)\n",
      "Requirement already satisfied: numpy>=1.15.0 in c:\\anaconda3\\lib\\site-packages (from spacy<3.6.0,>=3.5.0->en-core-web-lg==3.5.0) (1.21.5)\n",
      "Requirement already satisfied: pyparsing!=3.0.5,>=2.0.2 in c:\\anaconda3\\lib\\site-packages (from packaging>=20.0->spacy<3.6.0,>=3.5.0->en-core-web-lg==3.5.0) (3.0.4)\n",
      "Requirement already satisfied: typing-extensions>=4.2.0 in c:\\anaconda3\\lib\\site-packages (from pydantic!=1.8,!=1.8.1,<1.11.0,>=1.7.4->spacy<3.6.0,>=3.5.0->en-core-web-lg==3.5.0) (4.4.0)\n"
     ]
    },
    {
     "name": "stderr",
     "output_type": "stream",
     "text": [
      "2023-03-15 12:36:55.801574: W tensorflow/stream_executor/platform/default/dso_loader.cc:64] Could not load dynamic library 'cudnn64_8.dll'; dlerror: cudnn64_8.dll not found\n",
      "2023-03-15 12:36:55.808886: W tensorflow/core/common_runtime/gpu/gpu_device.cc:1934] Cannot dlopen some GPU libraries. Please make sure the missing libraries mentioned above are installed properly if you would like to use GPU. Follow the guide at https://www.tensorflow.org/install/gpu for how to download and setup the required libraries for your platform.\n",
      "Skipping registering GPU devices...\n",
      "\n",
      "[notice] A new release of pip is available: 23.0 -> 23.0.1\n",
      "[notice] To update, run: python.exe -m pip install --upgrade pip\n"
     ]
    },
    {
     "name": "stdout",
     "output_type": "stream",
     "text": [
      "Requirement already satisfied: urllib3<1.27,>=1.21.1 in c:\\anaconda3\\lib\\site-packages (from requests<3.0.0,>=2.13.0->spacy<3.6.0,>=3.5.0->en-core-web-lg==3.5.0) (1.26.9)\n",
      "Requirement already satisfied: charset-normalizer~=2.0.0 in c:\\anaconda3\\lib\\site-packages (from requests<3.0.0,>=2.13.0->spacy<3.6.0,>=3.5.0->en-core-web-lg==3.5.0) (2.0.4)\n",
      "Requirement already satisfied: idna<4,>=2.5 in c:\\anaconda3\\lib\\site-packages (from requests<3.0.0,>=2.13.0->spacy<3.6.0,>=3.5.0->en-core-web-lg==3.5.0) (3.3)\n",
      "Requirement already satisfied: certifi>=2017.4.17 in c:\\anaconda3\\lib\\site-packages (from requests<3.0.0,>=2.13.0->spacy<3.6.0,>=3.5.0->en-core-web-lg==3.5.0) (2021.10.8)\n",
      "Requirement already satisfied: blis<0.8.0,>=0.7.8 in c:\\anaconda3\\lib\\site-packages (from thinc<8.2.0,>=8.1.0->spacy<3.6.0,>=3.5.0->en-core-web-lg==3.5.0) (0.7.9)\n",
      "Requirement already satisfied: confection<1.0.0,>=0.0.1 in c:\\anaconda3\\lib\\site-packages (from thinc<8.2.0,>=8.1.0->spacy<3.6.0,>=3.5.0->en-core-web-lg==3.5.0) (0.0.4)\n",
      "Requirement already satisfied: colorama in c:\\anaconda3\\lib\\site-packages (from tqdm<5.0.0,>=4.38.0->spacy<3.6.0,>=3.5.0->en-core-web-lg==3.5.0) (0.4.6)\n",
      "Requirement already satisfied: click<9.0.0,>=7.1.1 in c:\\anaconda3\\lib\\site-packages (from typer<0.8.0,>=0.3.0->spacy<3.6.0,>=3.5.0->en-core-web-lg==3.5.0) (8.0.4)\n",
      "Requirement already satisfied: MarkupSafe>=0.23 in c:\\anaconda3\\lib\\site-packages (from jinja2->spacy<3.6.0,>=3.5.0->en-core-web-lg==3.5.0) (2.0.1)\n",
      "\u001b[38;5;2m[+] Download and installation successful\u001b[0m\n",
      "You can now load the package via spacy.load('en_core_web_lg')\n"
     ]
    }
   ],
   "source": [
    "#!spacy download en_core_web_lg"
   ]
  },
  {
   "cell_type": "code",
   "execution_count": 170,
   "id": "3d6798e9",
   "metadata": {
    "colab": {
     "base_uri": "https://localhost:8080/",
     "height": 599
    },
    "id": "3d6798e9",
    "outputId": "e444f632-210f-4cbd-ad31-3ac5a8dfb023"
   },
   "outputs": [
    {
     "name": "stdout",
     "output_type": "stream",
     "text": [
      "Total word vectors: 514157\n"
     ]
    },
    {
     "data": {
      "text/html": [
       "<div>\n",
       "<style scoped>\n",
       "    .dataframe tbody tr th:only-of-type {\n",
       "        vertical-align: middle;\n",
       "    }\n",
       "\n",
       "    .dataframe tbody tr th {\n",
       "        vertical-align: top;\n",
       "    }\n",
       "\n",
       "    .dataframe thead th {\n",
       "        text-align: right;\n",
       "    }\n",
       "</style>\n",
       "<table border=\"1\" class=\"dataframe\">\n",
       "  <thead>\n",
       "    <tr style=\"text-align: right;\">\n",
       "      <th></th>\n",
       "      <th>0</th>\n",
       "      <th>1</th>\n",
       "      <th>2</th>\n",
       "      <th>3</th>\n",
       "      <th>4</th>\n",
       "      <th>5</th>\n",
       "      <th>6</th>\n",
       "      <th>7</th>\n",
       "      <th>8</th>\n",
       "      <th>9</th>\n",
       "      <th>...</th>\n",
       "      <th>290</th>\n",
       "      <th>291</th>\n",
       "      <th>292</th>\n",
       "      <th>293</th>\n",
       "      <th>294</th>\n",
       "      <th>295</th>\n",
       "      <th>296</th>\n",
       "      <th>297</th>\n",
       "      <th>298</th>\n",
       "      <th>299</th>\n",
       "    </tr>\n",
       "  </thead>\n",
       "  <tbody>\n",
       "    <tr>\n",
       "      <th>violet</th>\n",
       "      <td>0.686350</td>\n",
       "      <td>0.52593</td>\n",
       "      <td>-4.45120</td>\n",
       "      <td>-0.23707</td>\n",
       "      <td>0.19831</td>\n",
       "      <td>-0.98637</td>\n",
       "      <td>1.85220</td>\n",
       "      <td>2.126800</td>\n",
       "      <td>-0.16475</td>\n",
       "      <td>1.911000</td>\n",
       "      <td>...</td>\n",
       "      <td>0.77459</td>\n",
       "      <td>1.90150</td>\n",
       "      <td>0.60018</td>\n",
       "      <td>-3.327600</td>\n",
       "      <td>0.19464</td>\n",
       "      <td>-0.37326</td>\n",
       "      <td>3.051700</td>\n",
       "      <td>0.89647</td>\n",
       "      <td>-3.07600</td>\n",
       "      <td>0.793250</td>\n",
       "    </tr>\n",
       "    <tr>\n",
       "      <th>red</th>\n",
       "      <td>-6.987800</td>\n",
       "      <td>1.16150</td>\n",
       "      <td>-8.06920</td>\n",
       "      <td>7.80010</td>\n",
       "      <td>1.52120</td>\n",
       "      <td>-7.22220</td>\n",
       "      <td>-2.06460</td>\n",
       "      <td>1.894000</td>\n",
       "      <td>2.36250</td>\n",
       "      <td>2.690200</td>\n",
       "      <td>...</td>\n",
       "      <td>-1.82510</td>\n",
       "      <td>4.03390</td>\n",
       "      <td>5.65330</td>\n",
       "      <td>-3.860400</td>\n",
       "      <td>-0.72858</td>\n",
       "      <td>6.38290</td>\n",
       "      <td>6.829400</td>\n",
       "      <td>-0.30026</td>\n",
       "      <td>-3.95430</td>\n",
       "      <td>-2.621500</td>\n",
       "    </tr>\n",
       "    <tr>\n",
       "      <th>just</th>\n",
       "      <td>-1.964800</td>\n",
       "      <td>3.05660</td>\n",
       "      <td>-3.10230</td>\n",
       "      <td>-1.73530</td>\n",
       "      <td>-1.18430</td>\n",
       "      <td>1.64040</td>\n",
       "      <td>2.78360</td>\n",
       "      <td>3.443900</td>\n",
       "      <td>-3.25980</td>\n",
       "      <td>2.925100</td>\n",
       "      <td>...</td>\n",
       "      <td>0.87217</td>\n",
       "      <td>-0.48226</td>\n",
       "      <td>3.24620</td>\n",
       "      <td>-2.112300</td>\n",
       "      <td>-5.00440</td>\n",
       "      <td>1.69560</td>\n",
       "      <td>3.613800</td>\n",
       "      <td>4.83060</td>\n",
       "      <td>-4.37310</td>\n",
       "      <td>0.653810</td>\n",
       "    </tr>\n",
       "    <tr>\n",
       "      <th>some</th>\n",
       "      <td>-0.911380</td>\n",
       "      <td>-1.24670</td>\n",
       "      <td>-1.44040</td>\n",
       "      <td>3.22800</td>\n",
       "      <td>-1.50450</td>\n",
       "      <td>-2.27990</td>\n",
       "      <td>0.37714</td>\n",
       "      <td>7.836300</td>\n",
       "      <td>-5.41800</td>\n",
       "      <td>-1.961900</td>\n",
       "      <td>...</td>\n",
       "      <td>3.18080</td>\n",
       "      <td>-7.12370</td>\n",
       "      <td>2.64700</td>\n",
       "      <td>1.721400</td>\n",
       "      <td>-3.33810</td>\n",
       "      <td>1.82060</td>\n",
       "      <td>-0.863030</td>\n",
       "      <td>-1.13780</td>\n",
       "      <td>-6.43880</td>\n",
       "      <td>3.759900</td>\n",
       "    </tr>\n",
       "    <tr>\n",
       "      <th>demonstration</th>\n",
       "      <td>-2.042900</td>\n",
       "      <td>-2.43160</td>\n",
       "      <td>-0.90118</td>\n",
       "      <td>2.68980</td>\n",
       "      <td>3.24890</td>\n",
       "      <td>-0.57169</td>\n",
       "      <td>2.25440</td>\n",
       "      <td>2.664000</td>\n",
       "      <td>-2.63810</td>\n",
       "      <td>-1.605100</td>\n",
       "      <td>...</td>\n",
       "      <td>1.07060</td>\n",
       "      <td>-0.26622</td>\n",
       "      <td>-0.23884</td>\n",
       "      <td>0.947490</td>\n",
       "      <td>0.57047</td>\n",
       "      <td>0.45281</td>\n",
       "      <td>2.014900</td>\n",
       "      <td>-3.82190</td>\n",
       "      <td>-2.93230</td>\n",
       "      <td>-0.584160</td>\n",
       "    </tr>\n",
       "    <tr>\n",
       "      <th>.</th>\n",
       "      <td>-0.076454</td>\n",
       "      <td>-4.68960</td>\n",
       "      <td>-4.04310</td>\n",
       "      <td>-3.43330</td>\n",
       "      <td>11.75800</td>\n",
       "      <td>3.72120</td>\n",
       "      <td>-0.98133</td>\n",
       "      <td>2.790200</td>\n",
       "      <td>0.43608</td>\n",
       "      <td>-2.442500</td>\n",
       "      <td>...</td>\n",
       "      <td>-3.77490</td>\n",
       "      <td>3.01470</td>\n",
       "      <td>1.86150</td>\n",
       "      <td>-3.955600</td>\n",
       "      <td>1.13400</td>\n",
       "      <td>3.02430</td>\n",
       "      <td>-3.098400</td>\n",
       "      <td>1.30400</td>\n",
       "      <td>-0.52699</td>\n",
       "      <td>-1.362200</td>\n",
       "    </tr>\n",
       "    <tr>\n",
       "      <th>blue</th>\n",
       "      <td>-4.310200</td>\n",
       "      <td>2.57060</td>\n",
       "      <td>-3.47220</td>\n",
       "      <td>2.52050</td>\n",
       "      <td>-1.11040</td>\n",
       "      <td>-5.10140</td>\n",
       "      <td>-1.48120</td>\n",
       "      <td>4.655900</td>\n",
       "      <td>0.38365</td>\n",
       "      <td>2.477200</td>\n",
       "      <td>...</td>\n",
       "      <td>-5.25050</td>\n",
       "      <td>4.20530</td>\n",
       "      <td>2.92490</td>\n",
       "      <td>-0.933100</td>\n",
       "      <td>0.89071</td>\n",
       "      <td>6.85240</td>\n",
       "      <td>0.075678</td>\n",
       "      <td>1.07370</td>\n",
       "      <td>-2.96000</td>\n",
       "      <td>-0.422090</td>\n",
       "    </tr>\n",
       "    <tr>\n",
       "      <th>This</th>\n",
       "      <td>1.684900</td>\n",
       "      <td>1.98260</td>\n",
       "      <td>-0.77743</td>\n",
       "      <td>-4.73830</td>\n",
       "      <td>5.54180</td>\n",
       "      <td>-1.62260</td>\n",
       "      <td>6.29550</td>\n",
       "      <td>0.227450</td>\n",
       "      <td>0.31281</td>\n",
       "      <td>-3.149400</td>\n",
       "      <td>...</td>\n",
       "      <td>3.28310</td>\n",
       "      <td>4.03420</td>\n",
       "      <td>9.90010</td>\n",
       "      <td>2.544900</td>\n",
       "      <td>-0.10740</td>\n",
       "      <td>6.52750</td>\n",
       "      <td>1.826900</td>\n",
       "      <td>-1.82890</td>\n",
       "      <td>-2.94540</td>\n",
       "      <td>-0.833370</td>\n",
       "    </tr>\n",
       "    <tr>\n",
       "      <th>text</th>\n",
       "      <td>1.815300</td>\n",
       "      <td>-3.09740</td>\n",
       "      <td>7.87810</td>\n",
       "      <td>1.71590</td>\n",
       "      <td>1.34920</td>\n",
       "      <td>-4.63070</td>\n",
       "      <td>3.67090</td>\n",
       "      <td>-0.085784</td>\n",
       "      <td>-4.97550</td>\n",
       "      <td>-0.840940</td>\n",
       "      <td>...</td>\n",
       "      <td>3.79580</td>\n",
       "      <td>-0.61199</td>\n",
       "      <td>4.80440</td>\n",
       "      <td>-3.927300</td>\n",
       "      <td>-0.13952</td>\n",
       "      <td>1.68680</td>\n",
       "      <td>5.259600</td>\n",
       "      <td>-4.02700</td>\n",
       "      <td>-4.81260</td>\n",
       "      <td>-1.845800</td>\n",
       "    </tr>\n",
       "    <tr>\n",
       "      <th>rose</th>\n",
       "      <td>-0.945060</td>\n",
       "      <td>-6.83510</td>\n",
       "      <td>-2.48310</td>\n",
       "      <td>1.06740</td>\n",
       "      <td>1.62590</td>\n",
       "      <td>-4.94570</td>\n",
       "      <td>-1.15260</td>\n",
       "      <td>7.013700</td>\n",
       "      <td>4.24760</td>\n",
       "      <td>1.426400</td>\n",
       "      <td>...</td>\n",
       "      <td>-1.15790</td>\n",
       "      <td>7.33210</td>\n",
       "      <td>-3.83220</td>\n",
       "      <td>-4.016000</td>\n",
       "      <td>1.13540</td>\n",
       "      <td>2.96460</td>\n",
       "      <td>3.281000</td>\n",
       "      <td>3.43790</td>\n",
       "      <td>-1.01020</td>\n",
       "      <td>-3.266100</td>\n",
       "    </tr>\n",
       "    <tr>\n",
       "      <th>,</th>\n",
       "      <td>-3.389900</td>\n",
       "      <td>-4.70340</td>\n",
       "      <td>-0.56101</td>\n",
       "      <td>1.22910</td>\n",
       "      <td>4.32980</td>\n",
       "      <td>-1.07750</td>\n",
       "      <td>-1.30060</td>\n",
       "      <td>8.793900</td>\n",
       "      <td>-0.16669</td>\n",
       "      <td>-4.373800</td>\n",
       "      <td>...</td>\n",
       "      <td>0.13658</td>\n",
       "      <td>-3.62980</td>\n",
       "      <td>-2.65040</td>\n",
       "      <td>-5.227000</td>\n",
       "      <td>-2.77310</td>\n",
       "      <td>3.16950</td>\n",
       "      <td>2.779600</td>\n",
       "      <td>0.73668</td>\n",
       "      <td>-0.62700</td>\n",
       "      <td>0.071074</td>\n",
       "    </tr>\n",
       "    <tr>\n",
       "      <th>for</th>\n",
       "      <td>-7.078100</td>\n",
       "      <td>-2.68880</td>\n",
       "      <td>-4.08680</td>\n",
       "      <td>0.42781</td>\n",
       "      <td>6.61630</td>\n",
       "      <td>-0.29513</td>\n",
       "      <td>-2.29380</td>\n",
       "      <td>6.523300</td>\n",
       "      <td>-0.13721</td>\n",
       "      <td>-1.193800</td>\n",
       "      <td>...</td>\n",
       "      <td>-3.42070</td>\n",
       "      <td>-4.35240</td>\n",
       "      <td>-1.82680</td>\n",
       "      <td>-0.069293</td>\n",
       "      <td>-2.15780</td>\n",
       "      <td>-0.40668</td>\n",
       "      <td>-3.475100</td>\n",
       "      <td>-1.06450</td>\n",
       "      <td>-5.53650</td>\n",
       "      <td>2.474600</td>\n",
       "    </tr>\n",
       "    <tr>\n",
       "      <th>is</th>\n",
       "      <td>1.475000</td>\n",
       "      <td>6.00780</td>\n",
       "      <td>1.12050</td>\n",
       "      <td>-3.58740</td>\n",
       "      <td>3.76380</td>\n",
       "      <td>3.19870</td>\n",
       "      <td>-2.20600</td>\n",
       "      <td>3.212800</td>\n",
       "      <td>-2.08160</td>\n",
       "      <td>-0.002931</td>\n",
       "      <td>...</td>\n",
       "      <td>10.95500</td>\n",
       "      <td>-2.96190</td>\n",
       "      <td>4.54070</td>\n",
       "      <td>-2.299900</td>\n",
       "      <td>-0.99536</td>\n",
       "      <td>1.26190</td>\n",
       "      <td>-2.332600</td>\n",
       "      <td>-0.22893</td>\n",
       "      <td>-0.85967</td>\n",
       "      <td>9.746600</td>\n",
       "    </tr>\n",
       "    <tr>\n",
       "      <th>The</th>\n",
       "      <td>-7.268100</td>\n",
       "      <td>-0.85717</td>\n",
       "      <td>5.81050</td>\n",
       "      <td>1.97710</td>\n",
       "      <td>8.81470</td>\n",
       "      <td>-5.85790</td>\n",
       "      <td>3.71430</td>\n",
       "      <td>3.585000</td>\n",
       "      <td>4.79870</td>\n",
       "      <td>-4.425100</td>\n",
       "      <td>...</td>\n",
       "      <td>-1.23500</td>\n",
       "      <td>1.62090</td>\n",
       "      <td>7.89940</td>\n",
       "      <td>10.741000</td>\n",
       "      <td>0.81158</td>\n",
       "      <td>9.01560</td>\n",
       "      <td>-1.591300</td>\n",
       "      <td>-5.31660</td>\n",
       "      <td>0.35032</td>\n",
       "      <td>-2.885000</td>\n",
       "    </tr>\n",
       "  </tbody>\n",
       "</table>\n",
       "<p>14 rows × 300 columns</p>\n",
       "</div>"
      ],
      "text/plain": [
       "                    0        1        2        3         4        5    \\\n",
       "violet         0.686350  0.52593 -4.45120 -0.23707   0.19831 -0.98637   \n",
       "red           -6.987800  1.16150 -8.06920  7.80010   1.52120 -7.22220   \n",
       "just          -1.964800  3.05660 -3.10230 -1.73530  -1.18430  1.64040   \n",
       "some          -0.911380 -1.24670 -1.44040  3.22800  -1.50450 -2.27990   \n",
       "demonstration -2.042900 -2.43160 -0.90118  2.68980   3.24890 -0.57169   \n",
       ".             -0.076454 -4.68960 -4.04310 -3.43330  11.75800  3.72120   \n",
       "blue          -4.310200  2.57060 -3.47220  2.52050  -1.11040 -5.10140   \n",
       "This           1.684900  1.98260 -0.77743 -4.73830   5.54180 -1.62260   \n",
       "text           1.815300 -3.09740  7.87810  1.71590   1.34920 -4.63070   \n",
       "rose          -0.945060 -6.83510 -2.48310  1.06740   1.62590 -4.94570   \n",
       ",             -3.389900 -4.70340 -0.56101  1.22910   4.32980 -1.07750   \n",
       "for           -7.078100 -2.68880 -4.08680  0.42781   6.61630 -0.29513   \n",
       "is             1.475000  6.00780  1.12050 -3.58740   3.76380  3.19870   \n",
       "The           -7.268100 -0.85717  5.81050  1.97710   8.81470 -5.85790   \n",
       "\n",
       "                   6         7        8         9    ...       290      291  \\\n",
       "violet         1.85220  2.126800 -0.16475  1.911000  ...   0.77459  1.90150   \n",
       "red           -2.06460  1.894000  2.36250  2.690200  ...  -1.82510  4.03390   \n",
       "just           2.78360  3.443900 -3.25980  2.925100  ...   0.87217 -0.48226   \n",
       "some           0.37714  7.836300 -5.41800 -1.961900  ...   3.18080 -7.12370   \n",
       "demonstration  2.25440  2.664000 -2.63810 -1.605100  ...   1.07060 -0.26622   \n",
       ".             -0.98133  2.790200  0.43608 -2.442500  ...  -3.77490  3.01470   \n",
       "blue          -1.48120  4.655900  0.38365  2.477200  ...  -5.25050  4.20530   \n",
       "This           6.29550  0.227450  0.31281 -3.149400  ...   3.28310  4.03420   \n",
       "text           3.67090 -0.085784 -4.97550 -0.840940  ...   3.79580 -0.61199   \n",
       "rose          -1.15260  7.013700  4.24760  1.426400  ...  -1.15790  7.33210   \n",
       ",             -1.30060  8.793900 -0.16669 -4.373800  ...   0.13658 -3.62980   \n",
       "for           -2.29380  6.523300 -0.13721 -1.193800  ...  -3.42070 -4.35240   \n",
       "is            -2.20600  3.212800 -2.08160 -0.002931  ...  10.95500 -2.96190   \n",
       "The            3.71430  3.585000  4.79870 -4.425100  ...  -1.23500  1.62090   \n",
       "\n",
       "                   292        293      294      295       296      297  \\\n",
       "violet         0.60018  -3.327600  0.19464 -0.37326  3.051700  0.89647   \n",
       "red            5.65330  -3.860400 -0.72858  6.38290  6.829400 -0.30026   \n",
       "just           3.24620  -2.112300 -5.00440  1.69560  3.613800  4.83060   \n",
       "some           2.64700   1.721400 -3.33810  1.82060 -0.863030 -1.13780   \n",
       "demonstration -0.23884   0.947490  0.57047  0.45281  2.014900 -3.82190   \n",
       ".              1.86150  -3.955600  1.13400  3.02430 -3.098400  1.30400   \n",
       "blue           2.92490  -0.933100  0.89071  6.85240  0.075678  1.07370   \n",
       "This           9.90010   2.544900 -0.10740  6.52750  1.826900 -1.82890   \n",
       "text           4.80440  -3.927300 -0.13952  1.68680  5.259600 -4.02700   \n",
       "rose          -3.83220  -4.016000  1.13540  2.96460  3.281000  3.43790   \n",
       ",             -2.65040  -5.227000 -2.77310  3.16950  2.779600  0.73668   \n",
       "for           -1.82680  -0.069293 -2.15780 -0.40668 -3.475100 -1.06450   \n",
       "is             4.54070  -2.299900 -0.99536  1.26190 -2.332600 -0.22893   \n",
       "The            7.89940  10.741000  0.81158  9.01560 -1.591300 -5.31660   \n",
       "\n",
       "                   298       299  \n",
       "violet        -3.07600  0.793250  \n",
       "red           -3.95430 -2.621500  \n",
       "just          -4.37310  0.653810  \n",
       "some          -6.43880  3.759900  \n",
       "demonstration -2.93230 -0.584160  \n",
       ".             -0.52699 -1.362200  \n",
       "blue          -2.96000 -0.422090  \n",
       "This          -2.94540 -0.833370  \n",
       "text          -4.81260 -1.845800  \n",
       "rose          -1.01020 -3.266100  \n",
       ",             -0.62700  0.071074  \n",
       "for           -5.53650  2.474600  \n",
       "is            -0.85967  9.746600  \n",
       "The            0.35032 -2.885000  \n",
       "\n",
       "[14 rows x 300 columns]"
      ]
     },
     "execution_count": 170,
     "metadata": {},
     "output_type": "execute_result"
    }
   ],
   "source": [
    "import spacy\n",
    "import nltk\n",
    "\n",
    "nlp = spacy.load('en_core_web_lg')\n",
    "\n",
    "total_vectors = len(nlp.vocab.vectors)\n",
    "print('Total word vectors:', total_vectors)\n",
    "\n",
    "document = [\"The rose is red.\", \"The violet is blue.\", \"This is some text, just for demonstration\"]\n",
    "tokenized_corpus = [nltk.word_tokenize(doc) for doc in document]\n",
    "\n",
    "vocab = list(set([word for wordlist in tokenized_corpus for word in wordlist]))\n",
    "\n",
    "glovevectors = np.array([nlp(word).vector for word in vocab])#Spacy's nlp pipeline has the vectors for these words\n",
    "glove_vec_df = pd.DataFrame(glovevectors, index=vocab)\n",
    "glove_vec_df"
   ]
  },
  {
   "cell_type": "code",
   "execution_count": 183,
   "id": "227f1ce4",
   "metadata": {},
   "outputs": [
    {
     "data": {
      "text/plain": [
       "0      0.68635\n",
       "1      0.52593\n",
       "2     -4.45120\n",
       "3     -0.23707\n",
       "4      0.19831\n",
       "        ...   \n",
       "295   -0.37326\n",
       "296    3.05170\n",
       "297    0.89647\n",
       "298   -3.07600\n",
       "299    0.79325\n",
       "Name: violet, Length: 300, dtype: float32"
      ]
     },
     "execution_count": 183,
     "metadata": {},
     "output_type": "execute_result"
    }
   ],
   "source": [
    "glove_vec_df.loc['violet']"
   ]
  },
  {
   "cell_type": "code",
   "execution_count": 184,
   "id": "962bbd3f",
   "metadata": {},
   "outputs": [
    {
     "data": {
      "text/plain": [
       "array([[ 0.68635,  0.52593, -4.4512 , ...,  0.89647, -3.076  ,  0.79325],\n",
       "       [-6.9878 ,  1.1615 , -8.0692 , ..., -0.30026, -3.9543 , -2.6215 ],\n",
       "       [-1.9648 ,  3.0566 , -3.1023 , ...,  4.8306 , -4.3731 ,  0.65381],\n",
       "       ...,\n",
       "       [-7.0781 , -2.6888 , -4.0868 , ..., -1.0645 , -5.5365 ,  2.4746 ],\n",
       "       [ 1.475  ,  6.0078 ,  1.1205 , ..., -0.22893, -0.85967,  9.7466 ],\n",
       "       [-7.2681 , -0.85717,  5.8105 , ..., -5.3166 ,  0.35032, -2.885  ]],\n",
       "      dtype=float32)"
      ]
     },
     "execution_count": 184,
     "metadata": {},
     "output_type": "execute_result"
    }
   ],
   "source": [
    "glovevectors"
   ]
  },
  {
   "cell_type": "code",
   "execution_count": 171,
   "id": "94924426",
   "metadata": {
    "colab": {
     "base_uri": "https://localhost:8080/",
     "height": 374
    },
    "id": "94924426",
    "outputId": "e1f99497-8e2c-40ad-d746-874faa1f95aa"
   },
   "outputs": [
    {
     "data": {
      "image/png": "[encoded data removed]",
      "text/plain": [
       "<Figure size 864x432 with 1 Axes>"
      ]
     },
     "metadata": {
      "needs_background": "light"
     },
     "output_type": "display_data"
    }
   ],
   "source": [
    "#Visualizing the data points\n",
    "tsne = TSNE(n_components = 2, random_state = 42, n_iter = 250, perplexity = 3)\n",
    "\n",
    "tsneglovemodel = tsne.fit_transform(glovevectors)\n",
    "labels = vocab\n",
    "\n",
    "plt.figure(figsize=(12, 6))\n",
    "plt.scatter(T[:, 0], T[:, 1], c='red', edgecolors='r')\n",
    "\n",
    "for label, x, y in zip(labels, tsneglovemodel[:, 0], tsneglovemodel[:, 1]):\n",
    "    plt.annotate(label, xy=(x+1, y+1), xytext=(0, 0), textcoords='offset points')"
   ]
  },
  {
   "cell_type": "markdown",
   "id": "03ded49b",
   "metadata": {
    "id": "03ded49b"
   },
   "source": [
    "#### FastText\n",
    "\n",
    "FastText is trained on Wikipedia and Crawl. It contains word vectors for 157 languages trained on Wikipedia and Crawl. It also contains models for language identification and various supervised tasks. "
   ]
  },
  {
   "cell_type": "code",
   "execution_count": 172,
   "id": "0eb4de4c",
   "metadata": {
    "colab": {
     "base_uri": "https://localhost:8080/"
    },
    "id": "0eb4de4c",
    "outputId": "34e6c12d-ce48-4c22-f077-4b4519261e45"
   },
   "outputs": [],
   "source": [
    "import warnings\n",
    "warnings.filterwarnings(\"ignore\")\n",
    "\n",
    "from gensim.models.fasttext import FastText\n",
    "import nltk\n",
    "document = [\"The rose is red.\", \"The violet is blue.\", \"This is some text, just for demonstration\"]\n",
    "tokenized_corpus = [nltk.word_tokenize(doc) for doc in document]\n",
    "\n",
    "fasttext_model = FastText(tokenized_corpus, window = 5, min_count = 1, sg = 1)"
   ]
  },
  {
   "cell_type": "code",
   "execution_count": 173,
   "id": "4209d6fd",
   "metadata": {},
   "outputs": [
    {
     "name": "stdout",
     "output_type": "stream",
     "text": [
      "Embedding\n",
      "[-0.00068685 -0.00369698 -0.00031865 -0.00041608  0.0009212   0.00184563\n",
      " -0.00097644 -0.00071541 -0.00154885 -0.00282399 -0.00029209  0.00073933\n",
      " -0.00180981  0.00100511  0.0013643  -0.00261378  0.0007032   0.00057082\n",
      "  0.00245104  0.00008123 -0.00028041 -0.00062312 -0.00020153 -0.00424301\n",
      " -0.00083335  0.0014431  -0.00257517  0.00085682 -0.0001063   0.00233496\n",
      "  0.00032435  0.00207993  0.00379743  0.00030887  0.00001545 -0.00049498\n",
      "  0.00126407  0.00077872 -0.00320367  0.00045213  0.00020452 -0.00011502\n",
      "  0.00014881  0.00221456 -0.00113051 -0.0026238  -0.00211393 -0.00126645\n",
      " -0.00086589  0.00244596  0.00139623 -0.00440238 -0.00040776 -0.00014052\n",
      " -0.00084439 -0.00025753 -0.00022066  0.00034226  0.00094839  0.00030859\n",
      " -0.00206775 -0.00031102  0.0024908   0.00004847  0.00022129  0.00087726\n",
      " -0.00262322 -0.00195961 -0.00128066 -0.00138765  0.0016962   0.00198707\n",
      " -0.00115068  0.00047318  0.00114017  0.00059524 -0.00002341  0.00102129\n",
      " -0.00653694 -0.00049489  0.0011959  -0.00312034 -0.00201748  0.00092395\n",
      " -0.00166516 -0.00014395  0.00231981 -0.00050319 -0.00156435  0.0034207\n",
      "  0.00093754  0.00098232  0.00532097 -0.00248571 -0.00140935  0.0039276\n",
      "  0.00138463  0.00269739 -0.00102922 -0.00053608]\n",
      "Embedding Shape\n",
      "(100,)\n"
     ]
    }
   ],
   "source": [
    "print('Embedding')\n",
    "print(fasttext_model.wv['blue'])\n",
    "\n",
    "print('Embedding Shape')\n",
    "print(fasttext_model.wv['blue'].shape)"
   ]
  },
  {
   "cell_type": "code",
   "execution_count": 186,
   "id": "7b2c3289",
   "metadata": {},
   "outputs": [
    {
     "data": {
      "text/plain": [
       "array([[-0.00058049,  0.0023094 ,  0.00097771, ..., -0.00262842,\n",
       "         0.00138485,  0.00022231],\n",
       "       [-0.0054783 ,  0.00537377,  0.00088895, ..., -0.00413477,\n",
       "        -0.00412239,  0.00089752],\n",
       "       [ 0.00113525,  0.00025944,  0.00026888, ...,  0.00080564,\n",
       "         0.00325409, -0.00210212],\n",
       "       ...,\n",
       "       [ 0.00055622,  0.00316274,  0.00074937, ..., -0.00113343,\n",
       "        -0.00112977,  0.00100747],\n",
       "       [ 0.00034134, -0.00337179, -0.00067486, ..., -0.00019201,\n",
       "        -0.00109297,  0.00005567],\n",
       "       [-0.00080672,  0.00161674,  0.00008131, ...,  0.00041106,\n",
       "        -0.0020853 ,  0.00238602]], dtype=float32)"
      ]
     },
     "execution_count": 186,
     "metadata": {},
     "output_type": "execute_result"
    }
   ],
   "source": [
    "words_fasttext = fasttext_model.wv.index_to_key\n",
    "wordvectors_fasttext = fasttext_model.wv[words]\n",
    "wordvectors_fasttext"
   ]
  },
  {
   "cell_type": "code",
   "execution_count": null,
   "id": "72ab7b2d",
   "metadata": {},
   "outputs": [],
   "source": []
  }
 ],
 "metadata": {
  "colab": {
   "provenance": []
  },
  "kernelspec": {
   "display_name": "Python 3 (ipykernel)",
   "language": "python",
   "name": "python3"
  },
  "language_info": {
   "codemirror_mode": {
    "name": "ipython",
    "version": 3
   },
   "file_extension": ".py",
   "mimetype": "text/x-python",
   "name": "python",
   "nbconvert_exporter": "python",
   "pygments_lexer": "ipython3",
   "version": "3.9.12"
  }
 },
 "nbformat": 4,
 "nbformat_minor": 5
}
